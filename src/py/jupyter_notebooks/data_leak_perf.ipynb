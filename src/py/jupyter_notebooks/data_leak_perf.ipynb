{
 "cells": [
  {
   "cell_type": "code",
   "execution_count": null,
   "id": "fd35410a-5803-4666-add2-38e69df6e8a9",
   "metadata": {},
   "outputs": [],
   "source": [
    "from basenji import bed\n",
    "import dataset_hic\n",
    "from basenji import dataset\n",
    "from basenji import plots\n",
    "from basenji import seqnn\n",
    "from basenji import trainer\n",
    "from basenji import metrics\n",
    "import tensorflow as tf\n",
    "import h5py\n",
    "import numpy as np\n",
    "import seaborn as sns\n",
    "import pandas as pd"
   ]
  },
  {
   "cell_type": "code",
   "execution_count": null,
   "id": "c2585f34-f7b5-4e72-ad77-24fd4675131e",
   "metadata": {},
   "outputs": [],
   "source": [
    "with_chr = \"/data/basset_tfr/keep_chr1_downsampled5p\"\n",
    "wo_chr = \"/data/basset_tfr/wo_chr1_downsampled5p/\""
   ]
  },
  {
   "cell_type": "code",
   "execution_count": null,
   "id": "cc2a74db-4f87-4f02-aacb-222074d2909f",
   "metadata": {},
   "outputs": [],
   "source": [
    "data_path_5p_wo_chr = \"/data/basset_tfr/wo_chr1_downsampled5p\"\n",
    "data_hic_5p_wo_chr = dataset_hic.SeqDataset(data_path_5p_wo_chr,\n",
    "                              split_label='test',\n",
    "                              batch_size=32,\n",
    "                              shuffle_buffer=8192,\n",
    "                              hic_length=25000,\n",
    "                              cell_id=120,\n",
    "                              mode='eval',\n",
    "                              tfr_pattern=None)\n",
    "\n",
    "data_path_5p_keep_chr = \"/data/basset_tfr/keep_chr1_downsampled5p\"\n",
    "data_hic_5p_keep_chr = dataset_hic.SeqDataset(data_path_5p_keep_chr,\n",
    "                              split_label='test',\n",
    "                              batch_size=32,\n",
    "                              shuffle_buffer=8192,\n",
    "                              hic_length=25000,\n",
    "                              cell_id=120,\n",
    "                              mode='eval',\n",
    "                              tfr_pattern=None)"
   ]
  },
  {
   "cell_type": "code",
   "execution_count": null,
   "id": "f0b23cee-e440-4449-b41d-42325d0504f2",
   "metadata": {},
   "outputs": [],
   "source": [
    "path = \"/data/basset_tfr/full_downsampled10p/\"\n",
    "data_10 = dataset_hic.SeqDataset(path,\n",
    "                              split_label='test',\n",
    "                              batch_size=64,\n",
    "                              shuffle_buffer=8192,\n",
    "                              hic_length=25000,\n",
    "                              cell_id=120,\n",
    "                              mode='eval',\n",
    "                              tfr_pattern=None)\n"
   ]
  },
  {
   "cell_type": "code",
   "execution_count": null,
   "id": "d8939e09-fdd8-4663-a227-87f27029396b",
   "metadata": {},
   "outputs": [],
   "source": [
    "data_10.dataset"
   ]
  },
  {
   "cell_type": "code",
   "execution_count": null,
   "id": "879ccf80-628a-4c1c-969b-76ea80320f53",
   "metadata": {},
   "outputs": [],
   "source": [
    "targets_keep_chr = data_hic_5p_keep_chr.numpy(return_inputs=False)"
   ]
  },
  {
   "cell_type": "code",
   "execution_count": null,
   "id": "42a90752-b599-44b9-8a7b-302c3529caee",
   "metadata": {},
   "outputs": [],
   "source": [
    "targets_keep_chr = data_hic_5p_keep_chr.numpy(return_inputs=False)"
   ]
  },
  {
   "cell_type": "code",
   "execution_count": null,
   "id": "ef412c80-af3d-4556-8166-aaa0929bf6dc",
   "metadata": {},
   "outputs": [],
   "source": [
    "targets_wo_chr = data_hic_5p_wo_chr.numpy(return_inputs=False)"
   ]
  },
  {
   "cell_type": "code",
   "execution_count": null,
   "id": "482d9ea8-4e85-42ee-88b3-ae96174422dc",
   "metadata": {},
   "outputs": [],
   "source": [
    "import json\n",
    "params_file = \"/config/params_basset.json\"\n",
    "with open(params_file) as params_open:\n",
    "    params = json.load(params_open)\n",
    "params_model = params['model']\n",
    "params_train = params['train']"
   ]
  },
  {
   "cell_type": "code",
   "execution_count": null,
   "id": "7b550e64-5675-456e-9532-171df4b8bd66",
   "metadata": {},
   "outputs": [],
   "source": [
    "# initialize model\n",
    "seqnn_model = seqnn.SeqNN(params_model)\n",
    "\n",
    "seqnn_model.restore(\"\", 0, trunk=False )\n",
    "seqnn_model.build_ensemble(False, [])"
   ]
  },
  {
   "cell_type": "code",
   "execution_count": null,
   "id": "ac7884ef-815d-47a0-99a7-d73f47054416",
   "metadata": {},
   "outputs": [],
   "source": [
    "### import layers\n",
    "\n",
    "trained_model = \"/data/basset_model/wo_chr1_5p//model_best.h5\"\n",
    "trained_model_load = tf.keras.models.load_model(trained_model, custom_objects={'StochasticReverseComplement': layers.StochasticReverseComplement(),  \n",
    "                                                                  'SwitchReverse': layers.SwitchReverse(), 'StochasticShift': layers.StochasticShift}, compile=False)"
   ]
  },
  {
   "cell_type": "code",
   "execution_count": null,
   "id": "4a8be9e0-86bf-4c47-8524-cc762eae4245",
   "metadata": {},
   "outputs": [],
   "source": [
    "import layers\n",
    "\n",
    "trained_model_10 = \"/raid/dkokot/data/basset_model/full_downsampled10p_hic_proper_384/model_best.h5\"\n",
    "trained_model_load_10 = tf.keras.models.load_model(trained_model_10, \n",
    "                                                   custom_objects={'StochasticReverseComplement': layers.StochasticReverseComplement(), \n",
    "                                                                    'SwitchReverse': layers.SwitchReverse(), \n",
    "                                                                    'StochasticShift': layers.StochasticShift}\n",
    "                                                                   , compile=False)"
   ]
  },
  {
   "cell_type": "code",
   "execution_count": null,
   "id": "15813abd-77b5-4d59-9184-e427b4270933",
   "metadata": {},
   "outputs": [],
   "source": [
    "preds_keep = trained_model_load.predict(getattr(data_hic_5p_keep_chr, 'dataset', None))"
   ]
  },
  {
   "cell_type": "code",
   "execution_count": null,
   "id": "e1d8ff38-5c8c-405f-8254-91f3e8587605",
   "metadata": {},
   "outputs": [],
   "source": [
    "preds_wo = trained_model_load.predict(getattr(data_hic_5p_wo_chr, 'dataset', None))"
   ]
  },
  {
   "cell_type": "code",
   "execution_count": null,
   "id": "c77f2591-eafe-47c3-9ee1-824808784bcb",
   "metadata": {},
   "outputs": [],
   "source": [
    "test_targets_ti_keep, test_targets_ti_wo = targets_keep_chr[:, :, 120], targets_wo_chr[:, :, 120]\n",
    "ds_indexes = np.arange(0, preds_keep.shape[1], 8)\n",
    "\n",
    "test_targets_ti_flat_wo = test_targets_ti_wo[:, ds_indexes].flatten(\n",
    ").astype('float32')\n",
    "test_targets_ti_flat_keep = test_targets_ti_keep[:, ds_indexes].flatten(\n",
    ").astype('float32')\n",
    "\n",
    "exclude\n",
    "test_preds_ti_flat_wo = preds_wo[:, ds_indexes, :].flatten().astype(\n",
    "'float32')\n",
    "test_preds_ti_flat_wo = preds_wo[:, ds_indexes, :].flatten().astype(\n",
    "'float32')\n",
    "\n",
    "# keep\n",
    "test_preds_ti_flat_keep = preds_keep[:, ds_indexes, :].flatten().astype(\n",
    "'float32')\n",
    "test_preds_ti_flat_keep = preds_keep[:, ds_indexes, :].flatten().astype(\n",
    "'float32')"
   ]
  },
  {
   "cell_type": "code",
   "execution_count": null,
   "id": "9aab722c-e160-49ec-a77a-a2ba02558c29",
   "metadata": {},
   "outputs": [],
   "source": []
  },
  {
   "cell_type": "code",
   "execution_count": null,
   "id": "bbcdb90c-b52c-4f5c-8d68-57c8d8e36743",
   "metadata": {},
   "outputs": [],
   "source": [
    "# call peaks\n",
    "from scipy.stats import poisson\n",
    "def ben_hoch(p_values):\n",
    "  \"\"\" Convert the given p-values to q-values using Benjamini-Hochberg FDR. \"\"\"\n",
    "  m = len(p_values)\n",
    "\n",
    "  # attach original indexes to p-values\n",
    "  p_k = [(p_values[k], k) for k in range(m)]\n",
    "\n",
    "  # sort by p-value\n",
    "  p_k.sort()\n",
    "\n",
    "  # compute q-value and attach original index to front\n",
    "  k_q = [(p_k[i][1], p_k[i][0] * m // (i + 1)) for i in range(m)]\n",
    "\n",
    "  # re-sort by original index\n",
    "  k_q.sort()\n",
    "\n",
    "  # drop original indexes\n",
    "  q_values = [k_q[k][1] for k in range(m)]\n",
    "\n",
    "  return q_values\n"
   ]
  },
  {
   "cell_type": "code",
   "execution_count": null,
   "id": "8f2b7584-07e3-4202-b3ab-adafab36dc5a",
   "metadata": {},
   "outputs": [],
   "source": [
    "def call_peaks(target):\n",
    "    test_targets_ti_lambda = np.mean(target)\n",
    "    test_targets_pvals = 1 - poisson.cdf(\n",
    "    np.round(target) - 1, mu=test_targets_ti_lambda)\n",
    "    test_targets_qvals = np.array(ben_hoch(test_targets_pvals))\n",
    "    test_targets_peaks = test_targets_qvals < 0.01\n",
    "    test_targets_peaks_str = np.where(test_targets_peaks, 'Peak',\n",
    "                                        'Background')\n",
    "    return test_targets_peaks, test_targets_peaks_str"
   ]
  },
  {
   "cell_type": "code",
   "execution_count": null,
   "id": "c56c9196-2039-402a-8624-0d29f271a781",
   "metadata": {},
   "outputs": [],
   "source": [
    "test_targets_peaks_wo, test_targets_peaks_str_wo = call_peaks(test_targets_ti_flat_wo)"
   ]
  },
  {
   "cell_type": "code",
   "execution_count": null,
   "id": "c57fddd2-2ebc-4164-b405-81f1cd41b0fb",
   "metadata": {},
   "outputs": [],
   "source": [
    "test_targets_peaks_keep, test_targets_peaks_str_keep = call_peaks(test_targets_ti_flat_keep)"
   ]
  },
  {
   "cell_type": "code",
   "execution_count": null,
   "id": "a8e6979e-bc9a-406c-8438-89bf7311d5ad",
   "metadata": {},
   "outputs": [],
   "source": [
    "len(test_targets_peaks_wo[np.where(test_targets_peaks_wo == 1)])"
   ]
  },
  {
   "cell_type": "code",
   "execution_count": null,
   "id": "a2032893-c1f4-4578-95e7-cbeb1fcffe1c",
   "metadata": {},
   "outputs": [],
   "source": [
    "len(test_targets_peaks_keep[np.where(test_targets_peaks_keep == 1)])"
   ]
  },
  {
   "cell_type": "code",
   "execution_count": null,
   "id": "6ebd9813-ee72-4481-be5e-75e7c52cb235",
   "metadata": {},
   "outputs": [],
   "source": [
    "preds_keep, _ = call_peaks(test_preds_ti_flat_keep)\n",
    "preds_wo, _ = call_peaks(test_preds_ti_flat_wo)"
   ]
  },
  {
   "cell_type": "code",
   "execution_count": null,
   "id": "0c5daf0c-4b84-4dde-9c4c-1bcbe827f965",
   "metadata": {},
   "outputs": [],
   "source": [
    "%matplotlib inline\n",
    "import matplotlib\n",
    "# matplotlib.use('PDF')\n",
    "import matplotlib.pyplot as plt\n",
    "import seaborn as sns\n",
    "\n",
    "from sklearn.metrics import roc_auc_score, roc_curve, confusion_matrix\n",
    "from sklearn.metrics import precision_recall_curve, average_precision_score"
   ]
  },
  {
   "cell_type": "code",
   "execution_count": null,
   "id": "f2ab97e2-5f0e-4530-b8b5-742b697f49c8",
   "metadata": {},
   "outputs": [],
   "source": [
    "test_preds_ti_flat_keep[np.where(test_preds_ti_flat_keep>0.5)]"
   ]
  },
  {
   "cell_type": "code",
   "execution_count": null,
   "id": "e5b00daf-e65d-4c0b-92d7-68d083481b0d",
   "metadata": {},
   "outputs": [],
   "source": [
    "# ROC\n",
    "plt.figure()\n",
    "fpr, tpr, _ = roc_curve(test_targets_peaks_keep, test_preds_ti_flat_keep)\n",
    "auroc = roc_auc_score(test_targets_peaks_keep, test_preds_ti_flat_keep)\n",
    "plt.plot(\n",
    "  [0, 1], [0, 1], c='black', linewidth=1, linestyle='--', alpha=0.7)\n",
    "plt.plot(fpr, tpr, c='black')\n",
    "ax = plt.gca()\n",
    "ax.set_xlabel('False positive rate')\n",
    "ax.set_ylabel('True positive rate')\n",
    "ax.text(\n",
    "  0.99, 0.02, 'AUROC %.3f' % auroc,\n",
    "  horizontalalignment='right')  # , fontsize=14)\n",
    "ax.grid(True, linestyle=':')"
   ]
  },
  {
   "cell_type": "code",
   "execution_count": null,
   "id": "3bc95924-e8b6-49c3-a542-74932b577492",
   "metadata": {},
   "outputs": [],
   "source": [
    "test_loss_hic, test_metric1_hic, test_metric2_hic = evaluate_model(trained_model_load, data_hic_5p_wo_chr, loss_label='bce')"
   ]
  },
  {
   "cell_type": "code",
   "execution_count": null,
   "id": "c905ee71-31b9-47c2-848c-2df5ec974c0e",
   "metadata": {},
   "outputs": [],
   "source": [
    "test_loss_keep, test_metric1_keep, test_metric2_keep = evaluate_model(trained_model_load, data_hic_5p_keep_chr, loss_label='bce')"
   ]
  },
  {
   "cell_type": "code",
   "execution_count": null,
   "id": "d415106a-b643-4827-b672-332c32c7742d",
   "metadata": {},
   "outputs": [],
   "source": [
    "# evaluate\n",
    "import os\n",
    "loss_10, auroc_10, auprc10 = evaluate_model(trained_model_load_10, data_10, loss_label='bce')"
   ]
  },
  {
   "cell_type": "code",
   "execution_count": null,
   "id": "3dc566e7-cd83-4f69-9dd6-0d530d541797",
   "metadata": {},
   "outputs": [],
   "source": []
  }
 ],
 "metadata": {
  "kernelspec": {
   "display_name": "Python 3 (ipykernel)",
   "language": "python",
   "name": "python3"
  },
  "language_info": {
   "codemirror_mode": {
    "name": "ipython",
    "version": 3
   },
   "file_extension": ".py",
   "mimetype": "text/x-python",
   "name": "python",
   "nbconvert_exporter": "python",
   "pygments_lexer": "ipython3",
   "version": "3.8.12"
  }
 },
 "nbformat": 4,
 "nbformat_minor": 5
}
