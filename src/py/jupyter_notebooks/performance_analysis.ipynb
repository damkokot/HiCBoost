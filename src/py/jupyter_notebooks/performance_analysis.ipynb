{
 "cells": [
  {
   "cell_type": "code",
   "execution_count": 5,
   "id": "b3c4d7f2",
   "metadata": {},
   "outputs": [],
   "source": [
    "from basenji import bed\n",
    "import dataset_hic\n",
    "from basenji import dataset\n",
    "from basenji import plots\n",
    "from basenji import seqnn\n",
    "from basenji import trainer\n",
    "from basenji import metrics\n",
    "import tensorflow as tf\n",
    "import h5py\n",
    "import numpy as np\n",
    "import seaborn as sns\n",
    "import pandas as pd"
   ]
  },
  {
   "cell_type": "code",
   "execution_count": 6,
   "id": "d1236eff-86e0-46ed-a5bf-17fc07996516",
   "metadata": {},
   "outputs": [
    {
     "data": {
      "text/plain": [
       "'1.24.3'"
      ]
     },
     "execution_count": 6,
     "metadata": {},
     "output_type": "execute_result"
    }
   ],
   "source": [
    "np.__version__"
   ]
  },
  {
   "cell_type": "code",
   "execution_count": 2,
   "id": "3ec86507",
   "metadata": {},
   "outputs": [],
   "source": [
    "### Load test data\n",
    "target_file = \"/results/basset_model/model_full/test_sequences_full_downsampled04p_noaug/targets.h5\"\n",
    "pred_file = \"/results/basset_model/model_full/test_sequences_full_downsampled04p_noaug/preds.h5\"\n",
    "pred_avg = \"/data/basset_predict/hic_sequences_full_downsampled04p/model_full/avg_predict.h5\"\n",
    "pred_hic = \"/data/basset_predict/hic_sequences_full_downsampled04p/model_full/hic_only_predict.h5\""
   ]
  },
  {
   "cell_type": "code",
   "execution_count": 7,
   "id": "c2926103-6e01-46bb-8e5a-09d1afb055b8",
   "metadata": {},
   "outputs": [],
   "source": [
    "with_chr = \"/data/basset_tfr/keep_chr1_downsampled5p\"\n",
    "wo_chr = \"/data/basset_tfr/wo_chr1_downsampled5p\""
   ]
  },
  {
   "cell_type": "code",
   "execution_count": 4,
   "id": "2702cefc-ad31-4a73-b284-f2a6776f4d0f",
   "metadata": {},
   "outputs": [],
   "source": [
    "pred_obj = h5py.File(pred_file)\n",
    "pred_avg_obj = h5py.File(pred_avg)\n",
    "pred_hic_obj = h5py.File(pred_hic)\n",
    "tg_obj  = h5py.File(target_file)"
   ]
  },
  {
   "cell_type": "code",
   "execution_count": 5,
   "id": "68f1258c-58fc-4fb8-95ae-90219fbf8a9e",
   "metadata": {},
   "outputs": [],
   "source": [
    "pred_set = np.array(pred_obj.get('preds'))\n",
    "pred_avg_set = np.array(pred_avg_obj.get('preds'))\n",
    "pred_hic_set = np.array(pred_hic_obj.get('preds'))\n",
    "tg_set = np.array(tg_obj.get('targets'))\n",
    "pred_set[np.isnan(pred_set)] = 0\n",
    "pred_avg_set[np.isnan(pred_avg_set)] = 0\n",
    "pred_hic_set[np.isnan(pred_hic_set)] = 0"
   ]
  },
  {
   "cell_type": "code",
   "execution_count": 6,
   "id": "2f033882-2e83-45f6-b60d-8dda31a1d5f7",
   "metadata": {},
   "outputs": [
    {
     "data": {
      "text/plain": [
       "(4790, 1, 164)"
      ]
     },
     "execution_count": 6,
     "metadata": {},
     "output_type": "execute_result"
    }
   ],
   "source": [
    "tg_set.shape"
   ]
  },
  {
   "cell_type": "code",
   "execution_count": 7,
   "id": "7fa08bb9-6527-4e93-87d7-4df3b1ff3734",
   "metadata": {},
   "outputs": [],
   "source": [
    "tg_set_ti = tg_set[:, :,120]\n",
    "tg_set_ti.shape\n",
    "# sample every few bins (adjust to plot the # points I want)\n",
    "ds_indexes = np.arange(0, pred_set.shape[1], 8)\n",
    "\n",
    "# subset and flatten\n",
    "tg_ti_flat = tg_set_ti[:, ds_indexes].flatten().astype('float32')\n",
    "pred_ti_flat = pred_set[:, ds_indexes, 120].flatten().astype('float32')\n",
    "pred_avg_ti_flat = pred_avg_set[:, ds_indexes, 120].flatten().astype('float32')\n",
    "pred_hic_ti_flat = pred_hic_set[:, ds_indexes, 120].flatten().astype('float32')"
   ]
  },
  {
   "cell_type": "code",
   "execution_count": 8,
   "id": "8746a00e-cebe-40b5-8376-46b3281a9d32",
   "metadata": {},
   "outputs": [
    {
     "data": {
      "text/plain": [
       "(4790, 1)"
      ]
     },
     "execution_count": 8,
     "metadata": {},
     "output_type": "execute_result"
    }
   ],
   "source": [
    "tg_set_ti.shape"
   ]
  },
  {
   "cell_type": "code",
   "execution_count": 9,
   "id": "1ed36516-6cdc-4d37-b4d2-48de73347137",
   "metadata": {},
   "outputs": [],
   "source": [
    "# call peaks\n",
    "from scipy.stats import poisson\n",
    "def ben_hoch(p_values):\n",
    "  \"\"\" Convert the given p-values to q-values using Benjamini-Hochberg FDR. \"\"\"\n",
    "  m = len(p_values)\n",
    "\n",
    "  # attach original indexes to p-values\n",
    "  p_k = [(p_values[k], k) for k in range(m)]\n",
    "\n",
    "  # sort by p-value\n",
    "  p_k.sort()\n",
    "\n",
    "  # compute q-value and attach original index to front\n",
    "  k_q = [(p_k[i][1], p_k[i][0] * m // (i + 1)) for i in range(m)]\n",
    "\n",
    "  # re-sort by original index\n",
    "  k_q.sort()\n",
    "\n",
    "  # drop original indexes\n",
    "  q_values = [k_q[k][1] for k in range(m)]\n",
    "\n",
    "  return q_values\n",
    "\n",
    "test_targets_ti_lambda = np.mean(tg_ti_flat)\n",
    "test_targets_pvals = 1 - poisson.cdf(\n",
    "  np.round(tg_ti_flat) - 1, mu=test_targets_ti_lambda)\n",
    "test_targets_qvals = np.array(ben_hoch(test_targets_pvals))\n",
    "test_targets_peaks = test_targets_qvals < 0.01\n",
    "test_targets_peaks_str = np.where(test_targets_peaks, 'Peak',\n",
    "                                'Background')"
   ]
  },
  {
   "cell_type": "code",
   "execution_count": null,
   "id": "cffef398-1191-4601-a1a1-57b377309984",
   "metadata": {},
   "outputs": [],
   "source": [
    "%matplotlib inline\n",
    "import matplotlib\n",
    "# matplotlib.use('PDF')\n",
    "import matplotlib.pyplot as plt\n",
    "import seaborn as sns\n",
    "\n",
    "from sklearn.metrics import roc_auc_score, roc_curve, confusion_matrix\n",
    "from sklearn.metrics import precision_recall_curve, average_precision_score\n",
    "\n",
    "# cases_preds = [pred_ti_flat, pred_avg_ti_flat, pred_hic_ti_flat]\n",
    "# aurocs = []\n",
    "# aurprcs = []\n",
    "\n",
    "# fig, axes = plt.subplots(ncols=3, figsizes=(15,5)) \n",
    "\n",
    "plt.figure()\n",
    "fpr, tpr, _ = roc_curve(test_targets_peaks, pred_ti_flat)\n",
    "auroc = roc_auc_score(test_targets_peaks, pred_ti_flat)\n",
    "auprc = average_precision_score(test_targets_peaks, pred_ti_flat)\n",
    "plt.title(\"Original + Hi-C data prediction\") \n",
    "plt.plot(\n",
    "  [0, 1], [0, 1], c='black', linewidth=1, linestyle='--', alpha=0.7)\n",
    "plt.plot(fpr, tpr, c='black')\n",
    "ax = plt.gca()\n",
    "ax.set_xlabel('False positive rate')\n",
    "ax.set_ylabel('True positive rate')\n",
    "ax.text(\n",
    "  0.99, 0.02, 'AUROC %.3f' % auroc,\n",
    "  horizontalalignment='right')  # , fontsize=14)\n",
    "ax.grid(True, linestyle=':')\n",
    "plt.show()"
   ]
  },
  {
   "cell_type": "code",
   "execution_count": 13,
   "id": "9be24075-5eb6-4b11-a0f6-bac1aa16c1b3",
   "metadata": {},
   "outputs": [
    {
     "data": {
      "text/plain": [
       "0.012480288280822517"
      ]
     },
     "execution_count": 13,
     "metadata": {},
     "output_type": "execute_result"
    }
   ],
   "source": [
    "auprc"
   ]
  },
  {
   "cell_type": "code",
   "execution_count": 10,
   "id": "9023a0f9",
   "metadata": {},
   "outputs": [
    {
     "name": "stdout",
     "output_type": "stream",
     "text": [
      "THE TFR FILES\n"
     ]
    }
   ],
   "source": [
    "dt_with_chr = dataset.SeqDataset(data_path,\n",
    "                              split_label='test',\n",
    "                              batch_size=64,\n",
    "                              shuffle_buffer=8192,\n",
    "                              mode='eval',\n",
    "                              tfr_pattern=None)\n",
    "dt_wo_chr"
   ]
  },
  {
   "cell_type": "code",
   "execution_count": null,
   "id": "bcd6f583",
   "metadata": {},
   "outputs": [],
   "source": [
    "data_hic = dataset_hic.SeqDataset(data_path,\n",
    "                              split_label='test',\n",
    "                              batch_size=32,\n",
    "                              shuffle_buffer=8192,\n",
    "                              hic_length=25000,\n",
    "                              cell_id=120,\n",
    "                              mode='eval',\n",
    "                              tfr_pattern=None)"
   ]
  },
  {
   "cell_type": "code",
   "execution_count": 20,
   "id": "70467133-b6da-484a-aed6-5a714474d474",
   "metadata": {},
   "outputs": [
    {
     "name": "stdout",
     "output_type": "stream",
     "text": [
      "Model: \"model_7\"\n",
      "__________________________________________________________________________________________________\n",
      " Layer (type)                   Output Shape         Param #     Connected to                     \n",
      "==================================================================================================\n",
      " sequence (InputLayer)          [(None, 1344, 4)]    0           []                               \n",
      "                                                                                                  \n",
      " stochastic_reverse_complement_  ((None, 1344, 4),   0           ['sequence[0][0]']               \n",
      " 3 (StochasticReverseComplement   ())                                                             \n",
      " )                                                                                                \n",
      "                                                                                                  \n",
      " stochastic_shift_3 (Stochastic  (None, 1344, 4)     0           ['stochastic_reverse_complement_3\n",
      " Shift)                                                          [0][0]']                         \n",
      "                                                                                                  \n",
      " conv1d_24 (Conv1D)             (None, 1344, 288)    19584       ['stochastic_shift_3[0][0]']     \n",
      "                                                                                                  \n",
      " batch_normalization_27 (BatchN  (None, 1344, 288)   1152        ['conv1d_24[0][0]']              \n",
      " ormalization)                                                                                    \n",
      "                                                                                                  \n",
      " gelu_30 (GELU)                 (None, 1344, 288)    0           ['batch_normalization_27[0][0]'] \n",
      "                                                                                                  \n",
      " max_pooling1d_21 (MaxPooling1D  (None, 448, 288)    0           ['gelu_30[0][0]']                \n",
      " )                                                                                                \n",
      "                                                                                                  \n",
      " gelu_31 (GELU)                 (None, 448, 288)     0           ['max_pooling1d_21[0][0]']       \n",
      "                                                                                                  \n",
      " conv1d_25 (Conv1D)             (None, 448, 288)     414720      ['gelu_31[0][0]']                \n",
      "                                                                                                  \n",
      " batch_normalization_28 (BatchN  (None, 448, 288)    1152        ['conv1d_25[0][0]']              \n",
      " ormalization)                                                                                    \n",
      "                                                                                                  \n",
      " max_pooling1d_22 (MaxPooling1D  (None, 224, 288)    0           ['batch_normalization_28[0][0]'] \n",
      " )                                                                                                \n",
      "                                                                                                  \n",
      " gelu_32 (GELU)                 (None, 224, 288)     0           ['max_pooling1d_22[0][0]']       \n",
      "                                                                                                  \n",
      " conv1d_26 (Conv1D)             (None, 224, 320)     460800      ['gelu_32[0][0]']                \n",
      "                                                                                                  \n",
      " batch_normalization_29 (BatchN  (None, 224, 320)    1280        ['conv1d_26[0][0]']              \n",
      " ormalization)                                                                                    \n",
      "                                                                                                  \n",
      " max_pooling1d_23 (MaxPooling1D  (None, 112, 320)    0           ['batch_normalization_29[0][0]'] \n",
      " )                                                                                                \n",
      "                                                                                                  \n",
      " gelu_33 (GELU)                 (None, 112, 320)     0           ['max_pooling1d_23[0][0]']       \n",
      "                                                                                                  \n",
      " conv1d_27 (Conv1D)             (None, 112, 368)     588800      ['gelu_33[0][0]']                \n",
      "                                                                                                  \n",
      " batch_normalization_30 (BatchN  (None, 112, 368)    1472        ['conv1d_27[0][0]']              \n",
      " ormalization)                                                                                    \n",
      "                                                                                                  \n",
      " max_pooling1d_24 (MaxPooling1D  (None, 56, 368)     0           ['batch_normalization_30[0][0]'] \n",
      " )                                                                                                \n",
      "                                                                                                  \n",
      " gelu_34 (GELU)                 (None, 56, 368)      0           ['max_pooling1d_24[0][0]']       \n",
      "                                                                                                  \n",
      " conv1d_28 (Conv1D)             (None, 56, 400)      736000      ['gelu_34[0][0]']                \n",
      "                                                                                                  \n",
      " batch_normalization_31 (BatchN  (None, 56, 400)     1600        ['conv1d_28[0][0]']              \n",
      " ormalization)                                                                                    \n",
      "                                                                                                  \n",
      " max_pooling1d_25 (MaxPooling1D  (None, 28, 400)     0           ['batch_normalization_31[0][0]'] \n",
      " )                                                                                                \n",
      "                                                                                                  \n",
      " gelu_35 (GELU)                 (None, 28, 400)      0           ['max_pooling1d_25[0][0]']       \n",
      "                                                                                                  \n",
      " conv1d_29 (Conv1D)             (None, 28, 464)      928000      ['gelu_35[0][0]']                \n",
      "                                                                                                  \n",
      " batch_normalization_32 (BatchN  (None, 28, 464)     1856        ['conv1d_29[0][0]']              \n",
      " ormalization)                                                                                    \n",
      "                                                                                                  \n",
      " max_pooling1d_26 (MaxPooling1D  (None, 14, 464)     0           ['batch_normalization_32[0][0]'] \n",
      " )                                                                                                \n",
      "                                                                                                  \n",
      " gelu_36 (GELU)                 (None, 14, 464)      0           ['max_pooling1d_26[0][0]']       \n",
      "                                                                                                  \n",
      " conv1d_30 (Conv1D)             (None, 14, 512)      1187840     ['gelu_36[0][0]']                \n",
      "                                                                                                  \n",
      " batch_normalization_33 (BatchN  (None, 14, 512)     2048        ['conv1d_30[0][0]']              \n",
      " ormalization)                                                                                    \n",
      "                                                                                                  \n",
      " max_pooling1d_27 (MaxPooling1D  (None, 7, 512)      0           ['batch_normalization_33[0][0]'] \n",
      " )                                                                                                \n",
      "                                                                                                  \n",
      " gelu_37 (GELU)                 (None, 7, 512)       0           ['max_pooling1d_27[0][0]']       \n",
      "                                                                                                  \n",
      " conv1d_31 (Conv1D)             (None, 7, 256)       131072      ['gelu_37[0][0]']                \n",
      "                                                                                                  \n",
      " batch_normalization_34 (BatchN  (None, 7, 256)      1024        ['conv1d_31[0][0]']              \n",
      " ormalization)                                                                                    \n",
      "                                                                                                  \n",
      " gelu_38 (GELU)                 (None, 7, 256)       0           ['batch_normalization_34[0][0]'] \n",
      "                                                                                                  \n",
      " reshape_3 (Reshape)            (None, 1, 1792)      0           ['gelu_38[0][0]']                \n",
      "                                                                                                  \n",
      " dense_6 (Dense)                (None, 1, 768)       1376256     ['reshape_3[0][0]']              \n",
      "                                                                                                  \n",
      " batch_normalization_35 (BatchN  (None, 1, 768)      3072        ['dense_6[0][0]']                \n",
      " ormalization)                                                                                    \n",
      "                                                                                                  \n",
      " dropout_3 (Dropout)            (None, 1, 768)       0           ['batch_normalization_35[0][0]'] \n",
      "                                                                                                  \n",
      " gelu_39 (GELU)                 (None, 1, 768)       0           ['dropout_3[0][0]']              \n",
      "                                                                                                  \n",
      " dense_7 (Dense)                (None, 1, 164)       126116      ['gelu_39[0][0]']                \n",
      "                                                                                                  \n",
      " switch_reverse_3 (SwitchRevers  (None, 1, 164)      0           ['dense_7[0][0]',                \n",
      " e)                                                               'stochastic_reverse_complement_3\n",
      "                                                                 [0][1]']                         \n",
      "                                                                                                  \n",
      "==================================================================================================\n",
      "Total params: 5,983,844\n",
      "Trainable params: 5,976,516\n",
      "Non-trainable params: 7,328\n",
      "__________________________________________________________________________________________________\n",
      "None\n",
      "model_strides [192]\n",
      "target_lengths [1]\n",
      "target_crops [3]\n",
      "INSIDE PREDICT 1\n",
      "INSIDE PREDICT 2\n"
     ]
    },
    {
     "name": "stderr",
     "output_type": "stream",
     "text": [
      "2023-11-26 22:33:48.048859: I tensorflow/stream_executor/cuda/cuda_dnn.cc:368] Loaded cuDNN version 8100\n",
      "2023-11-26 22:33:48.788574: I tensorflow/core/platform/default/subprocess.cc:304] Start cannot spawn child process: No such file or directory\n"
     ]
    }
   ],
   "source": [
    "import json\n",
    "params_file = \"/config/params_basset.json\"\n",
    "with open(params_file) as params_open:\n",
    "    params = json.load(params_open)\n",
    "params_model = params['model']\n",
    "params_train = params['train']\n",
    "\n",
    "\n",
    "\n",
    "# initialize model\n",
    "seqnn_model = seqnn.SeqNN(params_model)\n",
    "seqnn_model.restore(\"/data/basset_model/full_origin/model_best.h5\", 0)\n",
    "seqnn_model.build_ensemble(False, [])\n",
    "\n",
    "test_preds = seqnn_model.predict(data).astype('float16')"
   ]
  },
  {
   "cell_type": "code",
   "execution_count": 41,
   "id": "043c4e97-57f8-4619-8469-bafbf8c89ebb",
   "metadata": {},
   "outputs": [
    {
     "data": {
      "text/plain": [
       "array([[[2.6741e-03, 1.2703e-02, 2.8076e-03, ..., 3.4454e-02,\n",
       "         1.1253e-02, 2.9602e-03]],\n",
       "\n",
       "       [[1.1644e-03, 1.4687e-04, 9.2030e-04, ..., 2.0237e-03,\n",
       "         9.8419e-04, 3.3855e-04]],\n",
       "\n",
       "       [[3.8574e-02, 9.7084e-04, 3.7384e-02, ..., 8.2626e-03,\n",
       "         6.3782e-02, 4.9858e-03]],\n",
       "\n",
       "       ...,\n",
       "\n",
       "       [[2.7294e-03, 3.2854e-04, 5.7640e-03, ..., 1.6022e-03,\n",
       "         5.1041e-03, 8.5878e-04]],\n",
       "\n",
       "       [[2.1545e-01, 4.3793e-03, 1.5527e-01, ..., 1.9165e-02,\n",
       "         2.6459e-02, 2.4170e-02]],\n",
       "\n",
       "       [[1.2054e-02, 1.0023e-03, 1.4359e-02, ..., 2.6722e-03,\n",
       "         1.4477e-03, 1.5097e-03]]], dtype=float16)"
      ]
     },
     "execution_count": 41,
     "metadata": {},
     "output_type": "execute_result"
    }
   ],
   "source": [
    "test_preds"
   ]
  },
  {
   "cell_type": "code",
   "execution_count": 11,
   "id": "fbb23aa9",
   "metadata": {},
   "outputs": [
    {
     "data": {
      "text/plain": [
       "(59884, 1, 164)"
      ]
     },
     "execution_count": 11,
     "metadata": {},
     "output_type": "execute_result"
    }
   ],
   "source": [
    "test_targets = data.numpy(return_inputs=False)\n",
    "test_targets.shape"
   ]
  },
  {
   "cell_type": "code",
   "execution_count": 57,
   "id": "8e4cae40-4edb-4484-88b1-be897b9bc7ba",
   "metadata": {},
   "outputs": [],
   "source": [
    "# flatten batch and sequence length\n",
    "num_targets = test_preds.shape[-1]\n",
    "y_true = tf.reshape(test_targets, (-1,num_targets))\n",
    "y_pred = tf.reshape(test_preds, (-1,num_targets))\n"
   ]
  },
  {
   "cell_type": "code",
   "execution_count": 9,
   "id": "49e58389",
   "metadata": {},
   "outputs": [],
   "source": [
    "import json\n",
    "params_file = \"/config/params_basset.json\"\n",
    "with open(params_file) as params_open:\n",
    "    params = json.load(params_open)\n",
    "params_model = params['model']\n",
    "params_train = params['train']"
   ]
  },
  {
   "cell_type": "code",
   "execution_count": 13,
   "id": "5a374b51",
   "metadata": {},
   "outputs": [
    {
     "name": "stdout",
     "output_type": "stream",
     "text": [
      "Model: \"model_1\"\n",
      "__________________________________________________________________________________________________\n",
      " Layer (type)                   Output Shape         Param #     Connected to                     \n",
      "==================================================================================================\n",
      " sequence (InputLayer)          [(None, 1344, 4)]    0           []                               \n",
      "                                                                                                  \n",
      " stochastic_reverse_complement_  ((None, 1344, 4),   0           ['sequence[0][0]']               \n",
      " 1 (StochasticReverseComplement   ())                                                             \n",
      " )                                                                                                \n",
      "                                                                                                  \n",
      " stochastic_shift (StochasticSh  (None, 1344, 4)     0           ['stochastic_reverse_complement_1\n",
      " ift)                                                            [0][0]']                         \n",
      "                                                                                                  \n",
      " conv1d (Conv1D)                (None, 1344, 288)    19584       ['stochastic_shift[0][0]']       \n",
      "                                                                                                  \n",
      " batch_normalization (BatchNorm  (None, 1344, 288)   1152        ['conv1d[0][0]']                 \n",
      " alization)                                                                                       \n",
      "                                                                                                  \n",
      " gelu_1 (GELU)                  (None, 1344, 288)    0           ['batch_normalization[0][0]']    \n",
      "                                                                                                  \n",
      " max_pooling1d (MaxPooling1D)   (None, 448, 288)     0           ['gelu_1[0][0]']                 \n",
      "                                                                                                  \n",
      " gelu_2 (GELU)                  (None, 448, 288)     0           ['max_pooling1d[0][0]']          \n",
      "                                                                                                  \n",
      " conv1d_1 (Conv1D)              (None, 448, 288)     414720      ['gelu_2[0][0]']                 \n",
      "                                                                                                  \n",
      " batch_normalization_1 (BatchNo  (None, 448, 288)    1152        ['conv1d_1[0][0]']               \n",
      " rmalization)                                                                                     \n",
      "                                                                                                  \n",
      " max_pooling1d_1 (MaxPooling1D)  (None, 224, 288)    0           ['batch_normalization_1[0][0]']  \n",
      "                                                                                                  \n",
      " gelu_3 (GELU)                  (None, 224, 288)     0           ['max_pooling1d_1[0][0]']        \n",
      "                                                                                                  \n",
      " conv1d_2 (Conv1D)              (None, 224, 320)     460800      ['gelu_3[0][0]']                 \n",
      "                                                                                                  \n",
      " batch_normalization_2 (BatchNo  (None, 224, 320)    1280        ['conv1d_2[0][0]']               \n",
      " rmalization)                                                                                     \n",
      "                                                                                                  \n",
      " max_pooling1d_2 (MaxPooling1D)  (None, 112, 320)    0           ['batch_normalization_2[0][0]']  \n",
      "                                                                                                  \n",
      " gelu_4 (GELU)                  (None, 112, 320)     0           ['max_pooling1d_2[0][0]']        \n",
      "                                                                                                  \n",
      " conv1d_3 (Conv1D)              (None, 112, 368)     588800      ['gelu_4[0][0]']                 \n",
      "                                                                                                  \n",
      " batch_normalization_3 (BatchNo  (None, 112, 368)    1472        ['conv1d_3[0][0]']               \n",
      " rmalization)                                                                                     \n",
      "                                                                                                  \n",
      " max_pooling1d_3 (MaxPooling1D)  (None, 56, 368)     0           ['batch_normalization_3[0][0]']  \n",
      "                                                                                                  \n",
      " gelu_5 (GELU)                  (None, 56, 368)      0           ['max_pooling1d_3[0][0]']        \n",
      "                                                                                                  \n",
      " conv1d_4 (Conv1D)              (None, 56, 400)      736000      ['gelu_5[0][0]']                 \n",
      "                                                                                                  \n",
      " batch_normalization_4 (BatchNo  (None, 56, 400)     1600        ['conv1d_4[0][0]']               \n",
      " rmalization)                                                                                     \n",
      "                                                                                                  \n",
      " max_pooling1d_4 (MaxPooling1D)  (None, 28, 400)     0           ['batch_normalization_4[0][0]']  \n",
      "                                                                                                  \n",
      " gelu_6 (GELU)                  (None, 28, 400)      0           ['max_pooling1d_4[0][0]']        \n",
      "                                                                                                  \n",
      " conv1d_5 (Conv1D)              (None, 28, 464)      928000      ['gelu_6[0][0]']                 \n",
      "                                                                                                  \n",
      " batch_normalization_5 (BatchNo  (None, 28, 464)     1856        ['conv1d_5[0][0]']               \n",
      " rmalization)                                                                                     \n",
      "                                                                                                  \n",
      " max_pooling1d_5 (MaxPooling1D)  (None, 14, 464)     0           ['batch_normalization_5[0][0]']  \n",
      "                                                                                                  \n",
      " gelu_7 (GELU)                  (None, 14, 464)      0           ['max_pooling1d_5[0][0]']        \n",
      "                                                                                                  \n",
      " conv1d_6 (Conv1D)              (None, 14, 512)      1187840     ['gelu_7[0][0]']                 \n",
      "                                                                                                  \n",
      " batch_normalization_6 (BatchNo  (None, 14, 512)     2048        ['conv1d_6[0][0]']               \n",
      " rmalization)                                                                                     \n",
      "                                                                                                  \n",
      " max_pooling1d_6 (MaxPooling1D)  (None, 7, 512)      0           ['batch_normalization_6[0][0]']  \n",
      "                                                                                                  \n",
      " gelu_8 (GELU)                  (None, 7, 512)       0           ['max_pooling1d_6[0][0]']        \n",
      "                                                                                                  \n",
      " conv1d_7 (Conv1D)              (None, 7, 256)       131072      ['gelu_8[0][0]']                 \n",
      "                                                                                                  \n",
      " batch_normalization_7 (BatchNo  (None, 7, 256)      1024        ['conv1d_7[0][0]']               \n",
      " rmalization)                                                                                     \n",
      "                                                                                                  \n",
      " gelu_9 (GELU)                  (None, 7, 256)       0           ['batch_normalization_7[0][0]']  \n"
     ]
    },
    {
     "name": "stdout",
     "output_type": "stream",
     "text": [
      "                                                                                                  \n",
      " reshape (Reshape)              (None, 1, 1792)      0           ['gelu_9[0][0]']                 \n",
      "                                                                                                  \n",
      " dense (Dense)                  (None, 1, 768)       1376256     ['reshape[0][0]']                \n",
      "                                                                                                  \n",
      " batch_normalization_8 (BatchNo  (None, 1, 768)      3072        ['dense[0][0]']                  \n",
      " rmalization)                                                                                     \n",
      "                                                                                                  \n",
      " dropout (Dropout)              (None, 1, 768)       0           ['batch_normalization_8[0][0]']  \n",
      "                                                                                                  \n",
      " gelu_10 (GELU)                 (None, 1, 768)       0           ['dropout[0][0]']                \n",
      "                                                                                                  \n",
      " dense_1 (Dense)                (None, 1, 164)       126116      ['gelu_10[0][0]']                \n",
      "                                                                                                  \n",
      " switch_reverse_1 (SwitchRevers  (None, 1, 164)      0           ['dense_1[0][0]',                \n",
      " e)                                                               'stochastic_reverse_complement_1\n",
      "                                                                 [0][1]']                         \n",
      "                                                                                                  \n",
      "==================================================================================================\n",
      "Total params: 5,983,844\n",
      "Trainable params: 5,976,516\n",
      "Non-trainable params: 7,328\n",
      "__________________________________________________________________________________________________\n",
      "None\n",
      "model_strides [192]\n",
      "target_lengths [1]\n",
      "target_crops [3]\n"
     ]
    }
   ],
   "source": [
    "### Restore model\n",
    "model_file = \"/data/basset_model/full/model_best.h5\"\n",
    "\n",
    "\n",
    "seqnn_model = seqnn.SeqNN(params_model)\n",
    "seqnn_model.restore(model_file, 0)"
   ]
  },
  {
   "cell_type": "code",
   "execution_count": 2,
   "id": "0300b895",
   "metadata": {
    "scrolled": true
   },
   "outputs": [
    {
     "name": "stderr",
     "output_type": "stream",
     "text": [
      "2023-12-03 21:08:25.209616: I tensorflow/stream_executor/cuda/cuda_gpu_executor.cc:936] successful NUMA node read from SysFS had negative value (-1), but there must be at least one NUMA node, so returning NUMA node zero\n",
      "2023-12-03 21:08:25.210151: I tensorflow/stream_executor/cuda/cuda_gpu_executor.cc:936] successful NUMA node read from SysFS had negative value (-1), but there must be at least one NUMA node, so returning NUMA node zero\n",
      "2023-12-03 21:08:25.210634: I tensorflow/stream_executor/cuda/cuda_gpu_executor.cc:936] successful NUMA node read from SysFS had negative value (-1), but there must be at least one NUMA node, so returning NUMA node zero\n",
      "2023-12-03 21:08:25.211112: I tensorflow/stream_executor/cuda/cuda_gpu_executor.cc:936] successful NUMA node read from SysFS had negative value (-1), but there must be at least one NUMA node, so returning NUMA node zero\n",
      "2023-12-03 21:08:25.218055: I tensorflow/stream_executor/cuda/cuda_gpu_executor.cc:936] successful NUMA node read from SysFS had negative value (-1), but there must be at least one NUMA node, so returning NUMA node zero\n",
      "2023-12-03 21:08:25.218543: I tensorflow/stream_executor/cuda/cuda_gpu_executor.cc:936] successful NUMA node read from SysFS had negative value (-1), but there must be at least one NUMA node, so returning NUMA node zero\n",
      "2023-12-03 21:08:25.218990: I tensorflow/stream_executor/cuda/cuda_gpu_executor.cc:936] successful NUMA node read from SysFS had negative value (-1), but there must be at least one NUMA node, so returning NUMA node zero\n",
      "2023-12-03 21:08:25.219434: I tensorflow/stream_executor/cuda/cuda_gpu_executor.cc:936] successful NUMA node read from SysFS had negative value (-1), but there must be at least one NUMA node, so returning NUMA node zero\n",
      "2023-12-03 21:08:25.219878: I tensorflow/stream_executor/cuda/cuda_gpu_executor.cc:936] successful NUMA node read from SysFS had negative value (-1), but there must be at least one NUMA node, so returning NUMA node zero\n",
      "2023-12-03 21:08:25.220317: I tensorflow/stream_executor/cuda/cuda_gpu_executor.cc:936] successful NUMA node read from SysFS had negative value (-1), but there must be at least one NUMA node, so returning NUMA node zero\n",
      "2023-12-03 21:08:25.220774: I tensorflow/stream_executor/cuda/cuda_gpu_executor.cc:936] successful NUMA node read from SysFS had negative value (-1), but there must be at least one NUMA node, so returning NUMA node zero\n",
      "2023-12-03 21:08:25.221215: I tensorflow/stream_executor/cuda/cuda_gpu_executor.cc:936] successful NUMA node read from SysFS had negative value (-1), but there must be at least one NUMA node, so returning NUMA node zero\n",
      "2023-12-03 21:08:25.222207: I tensorflow/core/platform/cpu_feature_guard.cc:151] This TensorFlow binary is optimized with oneAPI Deep Neural Network Library (oneDNN) to use the following CPU instructions in performance-critical operations:  AVX2 FMA\n",
      "To enable them in other operations, rebuild TensorFlow with the appropriate compiler flags.\n",
      "2023-12-03 21:08:25.670947: I tensorflow/stream_executor/cuda/cuda_gpu_executor.cc:936] successful NUMA node read from SysFS had negative value (-1), but there must be at least one NUMA node, so returning NUMA node zero\n",
      "2023-12-03 21:08:25.671365: I tensorflow/stream_executor/cuda/cuda_gpu_executor.cc:936] successful NUMA node read from SysFS had negative value (-1), but there must be at least one NUMA node, so returning NUMA node zero\n",
      "2023-12-03 21:08:25.671744: I tensorflow/stream_executor/cuda/cuda_gpu_executor.cc:936] successful NUMA node read from SysFS had negative value (-1), but there must be at least one NUMA node, so returning NUMA node zero\n",
      "2023-12-03 21:08:25.672123: I tensorflow/stream_executor/cuda/cuda_gpu_executor.cc:936] successful NUMA node read from SysFS had negative value (-1), but there must be at least one NUMA node, so returning NUMA node zero\n",
      "2023-12-03 21:08:25.672508: I tensorflow/stream_executor/cuda/cuda_gpu_executor.cc:936] successful NUMA node read from SysFS had negative value (-1), but there must be at least one NUMA node, so returning NUMA node zero\n",
      "2023-12-03 21:08:25.672878: I tensorflow/stream_executor/cuda/cuda_gpu_executor.cc:936] successful NUMA node read from SysFS had negative value (-1), but there must be at least one NUMA node, so returning NUMA node zero\n",
      "2023-12-03 21:08:25.673235: I tensorflow/stream_executor/cuda/cuda_gpu_executor.cc:936] successful NUMA node read from SysFS had negative value (-1), but there must be at least one NUMA node, so returning NUMA node zero\n",
      "2023-12-03 21:08:25.673575: I tensorflow/stream_executor/cuda/cuda_gpu_executor.cc:936] successful NUMA node read from SysFS had negative value (-1), but there must be at least one NUMA node, so returning NUMA node zero\n",
      "2023-12-03 21:08:25.673915: I tensorflow/stream_executor/cuda/cuda_gpu_executor.cc:936] successful NUMA node read from SysFS had negative value (-1), but there must be at least one NUMA node, so returning NUMA node zero\n",
      "2023-12-03 21:08:25.674261: I tensorflow/stream_executor/cuda/cuda_gpu_executor.cc:936] successful NUMA node read from SysFS had negative value (-1), but there must be at least one NUMA node, so returning NUMA node zero\n",
      "2023-12-03 21:08:25.674605: I tensorflow/stream_executor/cuda/cuda_gpu_executor.cc:936] successful NUMA node read from SysFS had negative value (-1), but there must be at least one NUMA node, so returning NUMA node zero\n",
      "2023-12-03 21:08:25.674948: I tensorflow/stream_executor/cuda/cuda_gpu_executor.cc:936] successful NUMA node read from SysFS had negative value (-1), but there must be at least one NUMA node, so returning NUMA node zero\n",
      "2023-12-03 21:08:29.673043: I tensorflow/stream_executor/cuda/cuda_gpu_executor.cc:936] successful NUMA node read from SysFS had negative value (-1), but there must be at least one NUMA node, so returning NUMA node zero\n",
      "2023-12-03 21:08:29.673456: I tensorflow/stream_executor/cuda/cuda_gpu_executor.cc:936] successful NUMA node read from SysFS had negative value (-1), but there must be at least one NUMA node, so returning NUMA node zero\n",
      "2023-12-03 21:08:29.673832: I tensorflow/stream_executor/cuda/cuda_gpu_executor.cc:936] successful NUMA node read from SysFS had negative value (-1), but there must be at least one NUMA node, so returning NUMA node zero\n",
      "2023-12-03 21:08:29.674197: I tensorflow/stream_executor/cuda/cuda_gpu_executor.cc:936] successful NUMA node read from SysFS had negative value (-1), but there must be at least one NUMA node, so returning NUMA node zero\n",
      "2023-12-03 21:08:29.674547: I tensorflow/stream_executor/cuda/cuda_gpu_executor.cc:936] successful NUMA node read from SysFS had negative value (-1), but there must be at least one NUMA node, so returning NUMA node zero\n",
      "2023-12-03 21:08:29.674894: I tensorflow/stream_executor/cuda/cuda_gpu_executor.cc:936] successful NUMA node read from SysFS had negative value (-1), but there must be at least one NUMA node, so returning NUMA node zero\n",
      "2023-12-03 21:08:29.675257: I tensorflow/stream_executor/cuda/cuda_gpu_executor.cc:936] successful NUMA node read from SysFS had negative value (-1), but there must be at least one NUMA node, so returning NUMA node zero\n",
      "2023-12-03 21:08:29.675597: I tensorflow/stream_executor/cuda/cuda_gpu_executor.cc:936] successful NUMA node read from SysFS had negative value (-1), but there must be at least one NUMA node, so returning NUMA node zero\n",
      "2023-12-03 21:08:29.675959: I tensorflow/stream_executor/cuda/cuda_gpu_executor.cc:936] successful NUMA node read from SysFS had negative value (-1), but there must be at least one NUMA node, so returning NUMA node zero\n",
      "2023-12-03 21:08:29.676321: I tensorflow/core/common_runtime/gpu/gpu_device.cc:1525] Created device /job:localhost/replica:0/task:0/device:GPU:0 with 1657 MB memory:  -> device: 0, name: NVIDIA GeForce RTX 2080 Ti, pci bus id: 0000:01:00.0, compute capability: 7.5\n",
      "2023-12-03 21:08:29.676732: I tensorflow/stream_executor/cuda/cuda_gpu_executor.cc:936] successful NUMA node read from SysFS had negative value (-1), but there must be at least one NUMA node, so returning NUMA node zero\n",
      "2023-12-03 21:08:29.677074: I tensorflow/core/common_runtime/gpu/gpu_device.cc:1525] Created device /job:localhost/replica:0/task:0/device:GPU:1 with 8627 MB memory:  -> device: 1, name: NVIDIA GeForce RTX 2080 Ti, pci bus id: 0000:21:00.0, compute capability: 7.5\n",
      "2023-12-03 21:08:29.677367: I tensorflow/stream_executor/cuda/cuda_gpu_executor.cc:936] successful NUMA node read from SysFS had negative value (-1), but there must be at least one NUMA node, so returning NUMA node zero\n",
      "2023-12-03 21:08:29.677705: I tensorflow/core/common_runtime/gpu/gpu_device.cc:1525] Created device /job:localhost/replica:0/task:0/device:GPU:2 with 340 MB memory:  -> device: 2, name: NVIDIA GeForce RTX 2080 Ti, pci bus id: 0000:49:00.0, compute capability: 7.5\n",
      "2023-12-03 21:08:29.677955: I tensorflow/stream_executor/cuda/cuda_gpu_executor.cc:936] successful NUMA node read from SysFS had negative value (-1), but there must be at least one NUMA node, so returning NUMA node zero\n",
      "2023-12-03 21:08:29.678290: I tensorflow/core/common_runtime/gpu/gpu_device.cc:1525] Created device /job:localhost/replica:0/task:0/device:GPU:3 with 8531 MB memory:  -> device: 3, name: NVIDIA GeForce RTX 2080 Ti, pci bus id: 0000:4a:00.0, compute capability: 7.5\n"
     ]
    }
   ],
   "source": [
    "# load model\n",
    "import layers\n",
    "\n",
    "model_path_hic = \"/data/basset_model/full_downsampled10p_hic_proper_384/model_best.h5\"\n",
    "model_file_hic = tf.keras.models.load_model(model_path_hic, custom_objects={'StochasticReverseComplement': layers.StochasticReverseComplement(),  \n",
    "                                                                  'SwitchReverse': layers.SwitchReverse(), 'StochasticShift': layers.StochasticShift}, compile=False)"
   ]
  },
  {
   "cell_type": "code",
   "execution_count": 3,
   "id": "0a847ab0",
   "metadata": {},
   "outputs": [],
   "source": [
    "# load model trained on loop, not keras function\n",
    "model_dir_hic = \"/data/basset_model/full_downsampled10p_hic_no_dense_384/last_saved\"\n",
    "model_hic_from_dir = tf.keras.models.load_model(model_path_hic, custom_objects={'StochasticReverseComplement': layers.StochasticReverseComplement(),  \n",
    "                                                                  'SwitchReverse': layers.SwitchReverse(), 'StochasticShift': layers.StochasticShift}, compile=False)"
   ]
  },
  {
   "cell_type": "code",
   "execution_count": 10,
   "id": "b1bbea91-dee8-4c41-9df1-957e9fa0e6fa",
   "metadata": {},
   "outputs": [],
   "source": [
    "  def predict(model, seq_data, head_i=None, generator=False, **kwargs):\n",
    "    \"\"\" Predict targets for SeqDataset. \"\"\"\n",
    "    # choose model\n",
    "\n",
    "    dataset = getattr(seq_data, 'dataset', None)\n",
    "    if dataset is None:\n",
    "      dataset = seq_data\n",
    "\n",
    "    if generator:\n",
    "      return model.predict_generator(dataset, **kwargs)\n",
    "    else:\n",
    "      return model.predict(dataset, **kwargs)"
   ]
  },
  {
   "cell_type": "code",
   "execution_count": 5,
   "id": "9feb49cc-9ad3-4e78-9c08-23a9ad376a12",
   "metadata": {},
   "outputs": [],
   "source": [
    "data_path = \"/data/basset_tfr/full_downsampled10p/\"\n",
    "data_hic = dataset_hic.SeqDataset(data_path,\n",
    "                              split_label='test',\n",
    "                              batch_size=32,\n",
    "                              shuffle_buffer=8192,\n",
    "                              hic_length=25000,\n",
    "                              cell_id=120,\n",
    "                              mode='eval',\n",
    "                              tfr_pattern=None)"
   ]
  },
  {
   "cell_type": "code",
   "execution_count": 7,
   "id": "29990f95-74c2-4953-a1f7-8f852e237ad3",
   "metadata": {},
   "outputs": [
    {
     "name": "stdout",
     "output_type": "stream",
     "text": [
      "<FlatMapDataset element_spec=TensorSpec(shape=(), dtype=tf.string, name=None)>\n"
     ]
    }
   ],
   "source": [
    "targets = data_hic.numpy(return_inputs=False, return_outputs=True)"
   ]
  },
  {
   "cell_type": "code",
   "execution_count": null,
   "id": "553b4fcc-a06c-4388-bdef-c00bd238407a",
   "metadata": {},
   "outputs": [],
   "source": [
    "preds = predict(model_hic_from_dir, data_hic)"
   ]
  },
  {
   "cell_type": "code",
   "execution_count": null,
   "id": "6c20c105",
   "metadata": {},
   "outputs": [
    {
     "name": "stdout",
     "output_type": "stream",
     "text": [
      " reshape (Reshape)              (None, 1, 1792)      0           ['gelu_8[1][0]']                 \n",
      "                                                                                                  \n",
      " dense (Dense)                  (None, 1, 768)       1376256     ['reshape[1][0]']                \n",
      "                                                                                                  \n",
      " hic (InputLayer)               [(None, 25000, 4)]   0           []                               \n",
      "                                                                                                  \n",
      " batch_normalization_8 (BatchNo  (None, 1, 768)      3072        ['dense[1][0]']                  \n",
      " rmalization)                                                                                     \n",
      "                                                                                                  \n",
      " tf.__operators__.getitem (Slic  (None, 1344, 4)     0           ['hic[0][0]']                    \n",
      " ingOpLambda)                                                                                     \n",
      "                                                                                                  \n",
      " tf.__operators__.getitem_1 (Sl  (None, 1344, 4)     0           ['hic[0][0]']                    \n",
      " icingOpLambda)                                                                                   \n",
      "                                                                                                  \n",
      " tf.__operators__.getitem_2 (Sl  (None, 1344, 4)     0           ['hic[0][0]']                    \n",
      " icingOpLambda)                                                                                   \n",
      "                                                                                                  \n",
      " tf.__operators__.getitem_3 (Sl  (None, 1344, 4)     0           ['hic[0][0]']                    \n",
      " icingOpLambda)                                                                                   \n",
      "                                                                                                  \n",
      " tf.__operators__.getitem_4 (Sl  (None, 1344, 4)     0           ['hic[0][0]']                    \n",
      " icingOpLambda)                                                                                   \n",
      "                                                                                                  \n",
      " tf.__operators__.getitem_5 (Sl  (None, 1344, 4)     0           ['hic[0][0]']                    \n",
      " icingOpLambda)                                                                                   \n",
      "                                                                                                  \n",
      " tf.__operators__.getitem_6 (Sl  (None, 1344, 4)     0           ['hic[0][0]']                    \n",
      " icingOpLambda)                                                                                   \n",
      "                                                                                                  \n",
      " tf.__operators__.getitem_7 (Sl  (None, 1344, 4)     0           ['hic[0][0]']                    \n",
      " icingOpLambda)                                                                                   \n",
      "                                                                                                  \n",
      " tf.__operators__.getitem_8 (Sl  (None, 1344, 4)     0           ['hic[0][0]']                    \n",
      " icingOpLambda)                                                                                   \n",
      "                                                                                                  \n",
      " tf.__operators__.getitem_9 (Sl  (None, 1344, 4)     0           ['hic[0][0]']                    \n",
      " icingOpLambda)                                                                                   \n",
      "                                                                                                  \n",
      " tf.__operators__.getitem_10 (S  (None, 1344, 4)     0           ['hic[0][0]']                    \n",
      " licingOpLambda)                                                                                  \n",
      "                                                                                                  \n",
      " tf.__operators__.getitem_11 (S  (None, 1344, 4)     0           ['hic[0][0]']                    \n",
      " licingOpLambda)                                                                                  \n",
      "                                                                                                  \n",
      " tf.__operators__.getitem_12 (S  (None, 1344, 4)     0           ['hic[0][0]']                    \n",
      " licingOpLambda)                                                                                  \n",
      "                                                                                                  \n",
      " tf.__operators__.getitem_13 (S  (None, 1344, 4)     0           ['hic[0][0]']                    \n",
      " licingOpLambda)                                                                                  \n",
      "                                                                                                  \n",
      " tf.__operators__.getitem_14 (S  (None, 1344, 4)     0           ['hic[0][0]']                    \n",
      " licingOpLambda)                                                                                  \n",
      "                                                                                                  \n",
      " tf.__operators__.getitem_15 (S  (None, 1344, 4)     0           ['hic[0][0]']                    \n",
      " licingOpLambda)                                                                                  \n",
      "                                                                                                  \n",
      " tf.__operators__.getitem_16 (S  (None, 1344, 4)     0           ['hic[0][0]']                    \n",
      " licingOpLambda)                                                                                  \n",
      "                                                                                                  \n",
      " tf.__operators__.getitem_17 (S  (None, 1344, 4)     0           ['hic[0][0]']                    \n",
      " licingOpLambda)                                                                                  \n",
      "                                                                                                  \n",
      " tf.__operators__.getitem_18 (S  (None, 1344, 4)     0           ['hic[0][0]']                    \n",
      " licingOpLambda)                                                                                  \n",
      "                                                                                                  \n",
      " tf.__operators__.getitem_19 (S  (None, 1344, 4)     0           ['hic[0][0]']                    \n",
      " licingOpLambda)                                                                                  \n",
      "                                                                                                  \n",
      " tf.__operators__.getitem_20 (S  (None, 1344, 4)     0           ['hic[0][0]']                    \n",
      " licingOpLambda)                                                                                  \n",
      "                                                                                                  \n",
      " tf.__operators__.getitem_21 (S  (None, 1344, 4)     0           ['hic[0][0]']                    \n",
      " licingOpLambda)                                                                                  \n",
      "                                                                                                  \n",
      " tf.__operators__.getitem_22 (S  (None, 1344, 4)     0           ['hic[0][0]']                    \n",
      " licingOpLambda)                                                                                  \n",
      "                                                                                                  \n",
      " tf.__operators__.getitem_23 (S  (None, 1344, 4)     0           ['hic[0][0]']                    \n",
      " licingOpLambda)                                                                                  \n",
      "                                                                                                  \n",
      " tf.__operators__.getitem_24 (S  (None, 1344, 4)     0           ['hic[0][0]']                    \n",
      " licingOpLambda)                                                                                  \n"
     ]
    },
    {
     "name": "stdout",
     "output_type": "stream",
     "text": [
      "                                                                                                  \n",
      " tf.__operators__.getitem_25 (S  (None, 1344, 4)     0           ['hic[0][0]']                    \n",
      " licingOpLambda)                                                                                  \n",
      "                                                                                                  \n",
      " tf.__operators__.getitem_26 (S  (None, 1344, 4)     0           ['hic[0][0]']                    \n",
      " licingOpLambda)                                                                                  \n",
      "                                                                                                  \n",
      " tf.__operators__.getitem_27 (S  (None, 1344, 4)     0           ['hic[0][0]']                    \n",
      " licingOpLambda)                                                                                  \n",
      "                                                                                                  \n",
      " tf.__operators__.getitem_28 (S  (None, 1344, 4)     0           ['hic[0][0]']                    \n",
      " licingOpLambda)                                                                                  \n",
      "                                                                                                  \n",
      " tf.__operators__.getitem_29 (S  (None, 1344, 4)     0           ['hic[0][0]']                    \n",
      " licingOpLambda)                                                                                  \n",
      "                                                                                                  \n",
      " tf.__operators__.getitem_30 (S  (None, 1344, 4)     0           ['hic[0][0]']                    \n",
      " licingOpLambda)                                                                                  \n",
      "                                                                                                  \n",
      " tf.__operators__.getitem_31 (S  (None, 1344, 4)     0           ['hic[0][0]']                    \n",
      " licingOpLambda)                                                                                  \n",
      "                                                                                                  \n",
      " tf.__operators__.getitem_32 (S  (None, 1344, 4)     0           ['hic[0][0]']                    \n",
      " licingOpLambda)                                                                                  \n",
      "                                                                                                  \n",
      " tf.__operators__.getitem_33 (S  (None, 1344, 4)     0           ['hic[0][0]']                    \n",
      " licingOpLambda)                                                                                  \n",
      "                                                                                                  \n",
      " tf.__operators__.getitem_34 (S  (None, 1344, 4)     0           ['hic[0][0]']                    \n",
      " licingOpLambda)                                                                                  \n",
      "                                                                                                  \n",
      " tf.__operators__.getitem_35 (S  (None, 1344, 4)     0           ['hic[0][0]']                    \n",
      " licingOpLambda)                                                                                  \n",
      "                                                                                                  \n",
      " tf.__operators__.getitem_36 (S  (None, 1344, 4)     0           ['hic[0][0]']                    \n",
      " licingOpLambda)                                                                                  \n",
      "                                                                                                  \n",
      " tf.__operators__.getitem_37 (S  (None, 1344, 4)     0           ['hic[0][0]']                    \n",
      " licingOpLambda)                                                                                  \n",
      "                                                                                                  \n",
      " tf.__operators__.getitem_38 (S  (None, 1344, 4)     0           ['hic[0][0]']                    \n",
      " licingOpLambda)                                                                                  \n",
      "                                                                                                  \n",
      " tf.__operators__.getitem_39 (S  (None, 1344, 4)     0           ['hic[0][0]']                    \n",
      " licingOpLambda)                                                                                  \n",
      "                                                                                                  \n",
      " tf.__operators__.getitem_40 (S  (None, 1344, 4)     0           ['hic[0][0]']                    \n",
      " licingOpLambda)                                                                                  \n",
      "                                                                                                  \n",
      " tf.__operators__.getitem_41 (S  (None, 1344, 4)     0           ['hic[0][0]']                    \n",
      " licingOpLambda)                                                                                  \n",
      "                                                                                                  \n",
      " tf.__operators__.getitem_42 (S  (None, 1344, 4)     0           ['hic[0][0]']                    \n",
      " licingOpLambda)                                                                                  \n",
      "                                                                                                  \n",
      " tf.__operators__.getitem_43 (S  (None, 1344, 4)     0           ['hic[0][0]']                    \n",
      " licingOpLambda)                                                                                  \n",
      "                                                                                                  \n",
      " tf.__operators__.getitem_44 (S  (None, 1344, 4)     0           ['hic[0][0]']                    \n",
      " licingOpLambda)                                                                                  \n",
      "                                                                                                  \n",
      " tf.__operators__.getitem_45 (S  (None, 1344, 4)     0           ['hic[0][0]']                    \n",
      " licingOpLambda)                                                                                  \n",
      "                                                                                                  \n",
      " tf.__operators__.getitem_46 (S  (None, 1344, 4)     0           ['hic[0][0]']                    \n",
      " licingOpLambda)                                                                                  \n",
      "                                                                                                  \n",
      " tf.__operators__.getitem_47 (S  (None, 1344, 4)     0           ['hic[0][0]']                    \n",
      " licingOpLambda)                                                                                  \n",
      "                                                                                                  \n",
      " tf.__operators__.getitem_48 (S  (None, 1344, 4)     0           ['hic[0][0]']                    \n",
      " licingOpLambda)                                                                                  \n",
      "                                                                                                  \n",
      " tf.__operators__.getitem_49 (S  (None, 1344, 4)     0           ['hic[0][0]']                    \n",
      " licingOpLambda)                                                                                  \n",
      "                                                                                                  \n",
      " tf.__operators__.getitem_50 (S  (None, 1344, 4)     0           ['hic[0][0]']                    \n",
      " licingOpLambda)                                                                                  \n",
      "                                                                                                  \n",
      " tf.__operators__.getitem_51 (S  (None, 1344, 4)     0           ['hic[0][0]']                    \n",
      " licingOpLambda)                                                                                  \n",
      "                                                                                                  \n",
      " tf.__operators__.getitem_52 (S  (None, 1344, 4)     0           ['hic[0][0]']                    \n"
     ]
    },
    {
     "name": "stdout",
     "output_type": "stream",
     "text": [
      " licingOpLambda)                                                                                  \n",
      "                                                                                                  \n",
      " tf.__operators__.getitem_53 (S  (None, 1344, 4)     0           ['hic[0][0]']                    \n",
      " licingOpLambda)                                                                                  \n",
      "                                                                                                  \n",
      " tf.__operators__.getitem_54 (S  (None, 1344, 4)     0           ['hic[0][0]']                    \n",
      " licingOpLambda)                                                                                  \n",
      "                                                                                                  \n",
      " tf.__operators__.getitem_55 (S  (None, 1344, 4)     0           ['hic[0][0]']                    \n",
      " licingOpLambda)                                                                                  \n",
      "                                                                                                  \n",
      " tf.__operators__.getitem_56 (S  (None, 1344, 4)     0           ['hic[0][0]']                    \n",
      " licingOpLambda)                                                                                  \n",
      "                                                                                                  \n",
      " tf.__operators__.getitem_57 (S  (None, 1344, 4)     0           ['hic[0][0]']                    \n",
      " licingOpLambda)                                                                                  \n",
      "                                                                                                  \n",
      " tf.__operators__.getitem_58 (S  (None, 1344, 4)     0           ['hic[0][0]']                    \n",
      " licingOpLambda)                                                                                  \n",
      "                                                                                                  \n",
      " tf.__operators__.getitem_59 (S  (None, 1344, 4)     0           ['hic[0][0]']                    \n",
      " licingOpLambda)                                                                                  \n",
      "                                                                                                  \n",
      " tf.__operators__.getitem_60 (S  (None, 1344, 4)     0           ['hic[0][0]']                    \n",
      " licingOpLambda)                                                                                  \n",
      "                                                                                                  \n",
      " tf.__operators__.getitem_61 (S  (None, 1344, 4)     0           ['hic[0][0]']                    \n",
      " licingOpLambda)                                                                                  \n",
      "                                                                                                  \n",
      " dropout (Dropout)              (None, 1, 768)       0           ['batch_normalization_8[1][0]']  \n",
      "                                                                                                  \n",
      " model_1 (Functional)           (None, 1, 164)       5983844     ['tf.__operators__.getitem[0][0]'\n",
      "                                                                 , 'tf.__operators__.getitem_1[0][\n",
      "                                                                 0]',                             \n",
      "                                                                  'tf.__operators__.getitem_2[0][0\n",
      "                                                                 ]',                              \n",
      "                                                                  'tf.__operators__.getitem_3[0][0\n",
      "                                                                 ]',                              \n",
      "                                                                  'tf.__operators__.getitem_4[0][0\n",
      "                                                                 ]',                              \n",
      "                                                                  'tf.__operators__.getitem_5[0][0\n",
      "                                                                 ]',                              \n",
      "                                                                  'tf.__operators__.getitem_6[0][0\n",
      "                                                                 ]',                              \n",
      "                                                                  'tf.__operators__.getitem_7[0][0\n",
      "                                                                 ]',                              \n",
      "                                                                  'tf.__operators__.getitem_8[0][0\n",
      "                                                                 ]',                              \n",
      "                                                                  'tf.__operators__.getitem_9[0][0\n",
      "                                                                 ]',                              \n",
      "                                                                  'tf.__operators__.getitem_10[0][\n",
      "                                                                 0]',                             \n",
      "                                                                  'tf.__operators__.getitem_11[0][\n",
      "                                                                 0]',                             \n",
      "                                                                  'tf.__operators__.getitem_12[0][\n",
      "                                                                 0]',                             \n",
      "                                                                  'tf.__operators__.getitem_13[0][\n",
      "                                                                 0]',                             \n",
      "                                                                  'tf.__operators__.getitem_14[0][\n",
      "                                                                 0]',                             \n",
      "                                                                  'tf.__operators__.getitem_15[0][\n",
      "                                                                 0]',                             \n",
      "                                                                  'tf.__operators__.getitem_16[0][\n",
      "                                                                 0]',                             \n",
      "                                                                  'tf.__operators__.getitem_17[0][\n",
      "                                                                 0]',                             \n",
      "                                                                  'tf.__operators__.getitem_18[0][\n",
      "                                                                 0]',                             \n",
      "                                                                  'tf.__operators__.getitem_19[0][\n",
      "                                                                 0]',                             \n",
      "                                                                  'tf.__operators__.getitem_20[0][\n",
      "                                                                 0]',                             \n",
      "                                                                  'tf.__operators__.getitem_21[0][\n",
      "                                                                 0]',                             \n",
      "                                                                  'tf.__operators__.getitem_22[0][\n",
      "                                                                 0]',                             \n",
      "                                                                  'tf.__operators__.getitem_23[0][\n",
      "                                                                 0]',                             \n",
      "                                                                  'tf.__operators__.getitem_24[0][\n",
      "                                                                 0]',                             \n",
      "                                                                  'tf.__operators__.getitem_25[0][\n",
      "                                                                 0]',                             \n",
      "                                                                  'tf.__operators__.getitem_26[0][\n"
     ]
    },
    {
     "name": "stdout",
     "output_type": "stream",
     "text": [
      "                                                                 0]',                             \n",
      "                                                                  'tf.__operators__.getitem_27[0][\n",
      "                                                                 0]',                             \n",
      "                                                                  'tf.__operators__.getitem_28[0][\n",
      "                                                                 0]',                             \n",
      "                                                                  'tf.__operators__.getitem_29[0][\n",
      "                                                                 0]',                             \n",
      "                                                                  'tf.__operators__.getitem_30[0][\n",
      "                                                                 0]',                             \n",
      "                                                                  'tf.__operators__.getitem_31[0][\n",
      "                                                                 0]',                             \n",
      "                                                                  'tf.__operators__.getitem_32[0][\n",
      "                                                                 0]',                             \n",
      "                                                                  'tf.__operators__.getitem_33[0][\n",
      "                                                                 0]',                             \n",
      "                                                                  'tf.__operators__.getitem_34[0][\n",
      "                                                                 0]',                             \n",
      "                                                                  'tf.__operators__.getitem_35[0][\n",
      "                                                                 0]',                             \n",
      "                                                                  'tf.__operators__.getitem_36[0][\n",
      "                                                                 0]',                             \n",
      "                                                                  'tf.__operators__.getitem_37[0][\n",
      "                                                                 0]',                             \n",
      "                                                                  'tf.__operators__.getitem_38[0][\n",
      "                                                                 0]',                             \n",
      "                                                                  'tf.__operators__.getitem_39[0][\n",
      "                                                                 0]',                             \n",
      "                                                                  'tf.__operators__.getitem_40[0][\n",
      "                                                                 0]',                             \n",
      "                                                                  'tf.__operators__.getitem_41[0][\n",
      "                                                                 0]',                             \n",
      "                                                                  'tf.__operators__.getitem_42[0][\n",
      "                                                                 0]',                             \n",
      "                                                                  'tf.__operators__.getitem_43[0][\n",
      "                                                                 0]',                             \n",
      "                                                                  'tf.__operators__.getitem_44[0][\n",
      "                                                                 0]',                             \n",
      "                                                                  'tf.__operators__.getitem_45[0][\n",
      "                                                                 0]',                             \n",
      "                                                                  'tf.__operators__.getitem_46[0][\n",
      "                                                                 0]',                             \n",
      "                                                                  'tf.__operators__.getitem_47[0][\n",
      "                                                                 0]',                             \n",
      "                                                                  'tf.__operators__.getitem_48[0][\n",
      "                                                                 0]',                             \n",
      "                                                                  'tf.__operators__.getitem_49[0][\n",
      "                                                                 0]',                             \n",
      "                                                                  'tf.__operators__.getitem_50[0][\n",
      "                                                                 0]',                             \n",
      "                                                                  'tf.__operators__.getitem_51[0][\n",
      "                                                                 0]',                             \n",
      "                                                                  'tf.__operators__.getitem_52[0][\n",
      "                                                                 0]',                             \n",
      "                                                                  'tf.__operators__.getitem_53[0][\n",
      "                                                                 0]',                             \n",
      "                                                                  'tf.__operators__.getitem_54[0][\n",
      "                                                                 0]',                             \n",
      "                                                                  'tf.__operators__.getitem_55[0][\n",
      "                                                                 0]',                             \n",
      "                                                                  'tf.__operators__.getitem_56[0][\n",
      "                                                                 0]',                             \n",
      "                                                                  'tf.__operators__.getitem_57[0][\n",
      "                                                                 0]',                             \n",
      "                                                                  'tf.__operators__.getitem_58[0][\n",
      "                                                                 0]',                             \n",
      "                                                                  'tf.__operators__.getitem_59[0][\n",
      "                                                                 0]',                             \n",
      "                                                                  'tf.__operators__.getitem_60[0][\n",
      "                                                                 0]',                             \n",
      "                                                                  'tf.__operators__.getitem_61[0][\n",
      "                                                                 0]']                             \n",
      "                                                                                                  \n",
      " gelu_9 (GELU)                  (None, 1, 768)       0           ['dropout[1][0]']                \n",
      "                                                                                                  \n",
      " dense_common (Dense)           (None, 1, 16)        2640        ['model_1[0][0]',                \n",
      "                                                                  'model_1[1][0]',                \n",
      "                                                                  'model_1[2][0]',                \n",
      "                                                                  'model_1[3][0]',                \n",
      "                                                                  'model_1[4][0]',                \n",
      "                                                                  'model_1[5][0]',                \n",
      "                                                                  'model_1[6][0]',                \n",
      "                                                                  'model_1[7][0]',                \n",
      "                                                                  'model_1[8][0]',                \n"
     ]
    },
    {
     "name": "stdout",
     "output_type": "stream",
     "text": [
      "                                                                  'model_1[9][0]',                \n",
      "                                                                  'model_1[10][0]',               \n",
      "                                                                  'model_1[11][0]',               \n",
      "                                                                  'model_1[12][0]',               \n",
      "                                                                  'model_1[13][0]',               \n",
      "                                                                  'model_1[14][0]',               \n",
      "                                                                  'model_1[15][0]',               \n",
      "                                                                  'model_1[16][0]',               \n",
      "                                                                  'model_1[17][0]',               \n",
      "                                                                  'model_1[18][0]',               \n",
      "                                                                  'model_1[19][0]',               \n",
      "                                                                  'model_1[20][0]',               \n",
      "                                                                  'model_1[21][0]',               \n",
      "                                                                  'model_1[22][0]',               \n",
      "                                                                  'model_1[23][0]',               \n",
      "                                                                  'model_1[24][0]',               \n",
      "                                                                  'model_1[25][0]',               \n",
      "                                                                  'model_1[26][0]',               \n",
      "                                                                  'model_1[27][0]',               \n",
      "                                                                  'model_1[28][0]',               \n",
      "                                                                  'model_1[29][0]',               \n",
      "                                                                  'model_1[30][0]',               \n",
      "                                                                  'model_1[31][0]',               \n",
      "                                                                  'model_1[32][0]',               \n",
      "                                                                  'model_1[33][0]',               \n",
      "                                                                  'model_1[34][0]',               \n",
      "                                                                  'model_1[35][0]',               \n",
      "                                                                  'model_1[36][0]',               \n",
      "                                                                  'model_1[37][0]',               \n",
      "                                                                  'model_1[38][0]',               \n",
      "                                                                  'model_1[39][0]',               \n",
      "                                                                  'model_1[40][0]',               \n",
      "                                                                  'model_1[41][0]',               \n",
      "                                                                  'model_1[42][0]',               \n",
      "                                                                  'model_1[43][0]',               \n",
      "                                                                  'model_1[44][0]',               \n",
      "                                                                  'model_1[45][0]',               \n",
      "                                                                  'model_1[46][0]',               \n",
      "                                                                  'model_1[47][0]',               \n",
      "                                                                  'model_1[48][0]',               \n",
      "                                                                  'model_1[49][0]',               \n",
      "                                                                  'model_1[50][0]',               \n",
      "                                                                  'model_1[51][0]',               \n",
      "                                                                  'model_1[52][0]',               \n",
      "                                                                  'model_1[53][0]',               \n",
      "                                                                  'model_1[54][0]',               \n",
      "                                                                  'model_1[55][0]',               \n",
      "                                                                  'model_1[56][0]',               \n",
      "                                                                  'model_1[57][0]',               \n",
      "                                                                  'model_1[58][0]',               \n",
      "                                                                  'model_1[59][0]',               \n",
      "                                                                  'model_1[60][0]',               \n",
      "                                                                  'model_1[61][0]']               \n",
      "                                                                                                  \n",
      " dense_1 (Dense)                (None, 1, 164)       126116      ['gelu_9[1][0]']                 \n",
      "                                                                                                  \n",
      " concatenate (Concatenate)      (None, 1, 992)       0           ['dense_common[0][0]',           \n",
      "                                                                  'dense_common[1][0]',           \n",
      "                                                                  'dense_common[2][0]',           \n",
      "                                                                  'dense_common[3][0]',           \n",
      "                                                                  'dense_common[4][0]',           \n",
      "                                                                  'dense_common[5][0]',           \n",
      "                                                                  'dense_common[6][0]',           \n",
      "                                                                  'dense_common[7][0]',           \n",
      "                                                                  'dense_common[8][0]',           \n",
      "                                                                  'dense_common[9][0]',           \n",
      "                                                                  'dense_common[10][0]',          \n",
      "                                                                  'dense_common[11][0]',          \n",
      "                                                                  'dense_common[12][0]',          \n",
      "                                                                  'dense_common[13][0]',          \n",
      "                                                                  'dense_common[14][0]',          \n",
      "                                                                  'dense_common[15][0]',          \n",
      "                                                                  'dense_common[16][0]',          \n",
      "                                                                  'dense_common[17][0]',          \n",
      "                                                                  'dense_common[18][0]',          \n",
      "                                                                  'dense_common[19][0]',          \n",
      "                                                                  'dense_common[20][0]',          \n",
      "                                                                  'dense_common[21][0]',          \n",
      "                                                                  'dense_common[22][0]',          \n",
      "                                                                  'dense_common[23][0]',          \n",
      "                                                                  'dense_common[24][0]',          \n",
      "                                                                  'dense_common[25][0]',          \n",
      "                                                                  'dense_common[26][0]',          \n"
     ]
    },
    {
     "name": "stdout",
     "output_type": "stream",
     "text": [
      "                                                                  'dense_common[27][0]',          \n",
      "                                                                  'dense_common[28][0]',          \n",
      "                                                                  'dense_common[29][0]',          \n",
      "                                                                  'dense_common[30][0]',          \n",
      "                                                                  'dense_common[31][0]',          \n",
      "                                                                  'dense_common[32][0]',          \n",
      "                                                                  'dense_common[33][0]',          \n",
      "                                                                  'dense_common[34][0]',          \n",
      "                                                                  'dense_common[35][0]',          \n",
      "                                                                  'dense_common[36][0]',          \n",
      "                                                                  'dense_common[37][0]',          \n",
      "                                                                  'dense_common[38][0]',          \n",
      "                                                                  'dense_common[39][0]',          \n",
      "                                                                  'dense_common[40][0]',          \n",
      "                                                                  'dense_common[41][0]',          \n",
      "                                                                  'dense_common[42][0]',          \n",
      "                                                                  'dense_common[43][0]',          \n",
      "                                                                  'dense_common[44][0]',          \n",
      "                                                                  'dense_common[45][0]',          \n",
      "                                                                  'dense_common[46][0]',          \n",
      "                                                                  'dense_common[47][0]',          \n",
      "                                                                  'dense_common[48][0]',          \n",
      "                                                                  'dense_common[49][0]',          \n",
      "                                                                  'dense_common[50][0]',          \n",
      "                                                                  'dense_common[51][0]',          \n",
      "                                                                  'dense_common[52][0]',          \n",
      "                                                                  'dense_common[53][0]',          \n",
      "                                                                  'dense_common[54][0]',          \n",
      "                                                                  'dense_common[55][0]',          \n",
      "                                                                  'dense_common[56][0]',          \n",
      "                                                                  'dense_common[57][0]',          \n",
      "                                                                  'dense_common[58][0]',          \n",
      "                                                                  'dense_common[59][0]',          \n",
      "                                                                  'dense_common[60][0]',          \n",
      "                                                                  'dense_common[61][0]']          \n",
      "                                                                                                  \n",
      " switch_reverse (SwitchReverse)  (None, 1, 164)      0           ['dense_1[1][0]',                \n",
      "                                                                  'stochastic_reverse_complement[1\n",
      "                                                                 ][1]']                           \n",
      "                                                                                                  \n",
      " dense_final_hic (Dense)        (None, 1, 164)       162852      ['concatenate[0][0]']            \n",
      "                                                                                                  \n",
      " concatenate_1 (Concatenate)    (None, 1, 328)       0           ['switch_reverse[1][0]',         \n",
      "                                                                  'dense_final_hic[0][0]']        \n",
      "                                                                                                  \n",
      " dense_merge (Dense)            (None, 1, 16)        5264        ['concatenate_1[0][0]']          \n",
      "                                                                                                  \n",
      " batch_normalization_merge (Bat  (None, 1, 16)       64          ['dense_merge[0][0]']            \n",
      " chNormalization)                                                                                 \n",
      "                                                                                                  \n",
      " dropout_merge (Dropout)        (None, 1, 16)        0           ['batch_normalization_merge[0][0]\n",
      "                                                                 ']                               \n",
      "                                                                                                  \n",
      " dense_finale_merge (Dense)     (None, 1, 1)         17          ['dropout_merge[0][0]']          \n",
      "                                                                                                  \n",
      "==================================================================================================\n",
      "Total params: 6,154,681\n",
      "Trainable params: 170,805\n",
      "Non-trainable params: 5,983,876\n",
      "__________________________________________________________________________________________________\n"
     ]
    }
   ],
   "source": [
    "model_from_path_hic.summary()"
   ]
  },
  {
   "cell_type": "code",
   "execution_count": 10,
   "id": "d49bee98",
   "metadata": {},
   "outputs": [],
   "source": [
    "# evaluate\n",
    "loss_label = params_train.get('loss', 'poisson').lower()\n",
    "spec_weight = params_train.get('spec_weight', 1)\n",
    "loss_fn = trainer.parse_loss(loss_label, spec_weight=spec_weight)"
   ]
  },
  {
   "cell_type": "code",
   "execution_count": 11,
   "id": "e26ca341",
   "metadata": {},
   "outputs": [],
   "source": [
    "def evaluate_model(model_object, seq_data, head_i=None, loss_label='poisson', loss_fn=None):\n",
    "    \"\"\" Evaluate model on SeqDataset. \"\"\"\n",
    "    model = model_object\n",
    "\n",
    "    # compile with dense metrics\n",
    "    num_targets = model.output_shape[-1]\n",
    "\n",
    "    if loss_fn is None:\n",
    "        loss_fn = loss_label\n",
    "    \n",
    "    if loss_label == 'bce':\n",
    "        model.compile(optimizer=tf.keras.optimizers.SGD(),\n",
    "                    loss=loss_fn,\n",
    "                    metrics=[metrics.SeqAUC(curve='ROC', summarize=False),\n",
    "                             metrics.SeqAUC(curve='PR', summarize=False)])\n",
    "    else:      \n",
    "        model.compile(optimizer=tf.keras.optimizers.SGD(),\n",
    "                    loss=loss_fn,\n",
    "                    metrics=[metrics.PearsonR(num_targets, summarize=False),\n",
    "                             metrics.R2(num_targets, summarize=False)])\n",
    "\n",
    "    # evaluate\n",
    "    return model.evaluate(seq_data.dataset)"
   ]
  },
  {
   "cell_type": "code",
   "execution_count": null,
   "id": "99b50a39",
   "metadata": {},
   "outputs": [],
   "source": []
  },
  {
   "cell_type": "code",
   "execution_count": 16,
   "id": "482eac57",
   "metadata": {},
   "outputs": [
    {
     "name": "stdout",
     "output_type": "stream",
     "text": [
      "1872/1872 [==============================] - 27s 14ms/step - loss: 0.0761 - auroc: 0.9318 - auprc: 0.5003\n"
     ]
    }
   ],
   "source": [
    "# evaluate\n",
    "import tensorflow as tf\n",
    "test_loss, test_metric1, test_metric2 = evaluate_model(seqnn_model, data, loss_label=loss_label, loss_fn=loss_fn)"
   ]
  },
  {
   "cell_type": "code",
   "execution_count": 19,
   "id": "6329e176",
   "metadata": {},
   "outputs": [
    {
     "data": {
      "text/plain": [
       "(164,)"
      ]
     },
     "execution_count": 19,
     "metadata": {},
     "output_type": "execute_result"
    }
   ],
   "source": []
  },
  {
   "cell_type": "code",
   "execution_count": 16,
   "id": "5d0ededd",
   "metadata": {},
   "outputs": [
    {
     "name": "stdout",
     "output_type": "stream",
     "text": [
      "75/75 [==============================] - 2s 14ms/step - loss: 0.1286 - auroc: 0.7531 - auprc: 0.1589\n"
     ]
    }
   ],
   "source": [
    "import tensorflow as tf\n",
    "test_loss_1, test_metric11, test_metric22 = evaluate_model(model_from_path, data, loss_label=loss_label, loss_fn=loss_fn)"
   ]
  },
  {
   "cell_type": "code",
   "execution_count": 11,
   "id": "2840349c",
   "metadata": {},
   "outputs": [
    {
     "name": "stdout",
     "output_type": "stream",
     "text": [
      "Test AUROC:        0.48162\n",
      "Test AUPRC:        0.03432\n"
     ]
    }
   ],
   "source": [
    "if loss_label == 'bce':\n",
    "    print('Test AUROC:        %7.5f' % test_metric1.mean())\n",
    "    print('Test AUPRC:        %7.5f' % test_metric2.mean())"
   ]
  },
  {
   "cell_type": "code",
   "execution_count": 12,
   "id": "0667f2fb",
   "metadata": {},
   "outputs": [],
   "source": [
    "AUROC: 0.76010\n",
    "AUPRC: 0.18207"
   ]
  },
  {
   "cell_type": "code",
   "execution_count": 7,
   "id": "46b7a1fa",
   "metadata": {},
   "outputs": [],
   "source": [
    "data_path_5p_wo_chr = \"/home/dkokot/Basenji_HiC/data/basset_tfr/wo_chr1_downsampled5p\"\n",
    "data_hic_5p_wo_chr = dataset_hic.SeqDataset(data_path_5p_wo_chr,\n",
    "                              split_label='test',\n",
    "                              batch_size=32,\n",
    "                              shuffle_buffer=8192,\n",
    "                              hic_length=25000,\n",
    "                              cell_id=120,\n",
    "                              mode='eval',\n",
    "                              tfr_pattern=None)"
   ]
  },
  {
   "cell_type": "code",
   "execution_count": 8,
   "id": "ca1bd472",
   "metadata": {},
   "outputs": [],
   "source": [
    "data_path_5p_keep_chr = \"/home/dkokot/Basenji_HiC/data/basset_tfr/keep_chr1_downsampled5p\"\n",
    "data_hic_5p_keep_chr = dataset_hic.SeqDataset(data_path_5p_keep_chr,\n",
    "                              split_label='test',\n",
    "                              batch_size=32,\n",
    "                              shuffle_buffer=8192,\n",
    "                              hic_length=25000,\n",
    "                              cell_id=120,\n",
    "                              mode='eval',\n",
    "                              tfr_pattern=None)"
   ]
  },
  {
   "cell_type": "code",
   "execution_count": null,
   "id": "7ce2512a",
   "metadata": {},
   "outputs": [],
   "source": [
    "data_path_5p = \"/home/dkokot/Basenji_HiC/data/basset_tfr/full_downsampled5p\"\n",
    "data_hic_5p = dataset_hic.SeqDataset(data_path_5p,\n",
    "                              split_label='test',\n",
    "                              batch_size=32,\n",
    "                              shuffle_buffer=8192,\n",
    "                              hic_length=25000,\n",
    "                              cell_id=120,\n",
    "                              mode='eval',\n",
    "                              tfr_pattern=None)"
   ]
  },
  {
   "cell_type": "code",
   "execution_count": 9,
   "id": "41a8bb6d",
   "metadata": {},
   "outputs": [
    {
     "name": "stdout",
     "output_type": "stream",
     "text": [
      "WARNING:tensorflow:Unable to restore custom metric. Please ensure that the layer implements `get_config` and `from_config` when saving. In addition, please use the `custom_objects` arg when calling `load_model()`.\n",
      "WARNING:tensorflow:Unable to restore custom metric. Please ensure that the layer implements `get_config` and `from_config` when saving. In addition, please use the `custom_objects` arg when calling `load_model()`.\n"
     ]
    }
   ],
   "source": [
    "import layers\n",
    "\n",
    "model_dir_hic_5p_wo1 = \"/home/dkokot/Basenji_HiC/data/basset_model/wo_chr1_5p/last_saved\"\n",
    "model_hic_from_dir_5p_wo1 = tf.keras.models.load_model(model_dir_hic_5p_wo1, custom_objects={'StochasticReverseComplement': layers.StochasticReverseComplement(),  \n",
    "                                                                  'SwitchReverse': layers.SwitchReverse(), 'StochasticShift': layers.StochasticShift, \n",
    "                                                                  'GELU': layers.GELU(), 'GELU_HIC': layers.GELU_HIC, 'GELU_FINAL': layers.GELU_FINAL}, compile=False)"
   ]
  },
  {
   "cell_type": "code",
   "execution_count": 17,
   "id": "dc08ed48",
   "metadata": {},
   "outputs": [
    {
     "name": "stdout",
     "output_type": "stream",
     "text": [
      "3743/3743 [==============================] - 1572s 414ms/step - loss: 0.0982 - auroc: 0.8850 - auprc: 0.4291\n"
     ]
    }
   ],
   "source": [
    "# evaluate\n",
    "import os\n",
    "os.environ[\"CUDA_DEVICE_ORDER\"]=\"PCI_BUS_ID\"\n",
    "os.environ[\"CUDA_VISIBLE_DEVICES\"]=\"2,3\"\n",
    "test_loss_hic, test_metric1_hic, test_metric2_hic = evaluate_model(model_hic_from_dir, data_hic, loss_label=loss_label, loss_fn=loss_fn)"
   ]
  },
  {
   "cell_type": "code",
   "execution_count": 11,
   "id": "37e29374",
   "metadata": {},
   "outputs": [
    {
     "data": {
      "text/plain": [
       "array([0.884969], dtype=float32)"
      ]
     },
     "execution_count": 11,
     "metadata": {},
     "output_type": "execute_result"
    }
   ],
   "source": [
    "test_metric1_hic"
   ]
  },
  {
   "cell_type": "code",
   "execution_count": 11,
   "id": "77c08952",
   "metadata": {},
   "outputs": [
    {
     "name": "stderr",
     "output_type": "stream",
     "text": [
      "2022-09-14 10:39:55.203320: I tensorflow/stream_executor/cuda/cuda_dnn.cc:384] Loaded cuDNN version 8201\n",
      "2022-09-14 10:39:55.569741: I tensorflow/core/platform/default/subprocess.cc:304] Start cannot spawn child process: No such file or directory\n"
     ]
    },
    {
     "name": "stdout",
     "output_type": "stream",
     "text": [
      "1712/1712 [==============================] - 734s 415ms/step - loss: 0.0935 - auroc: 0.9040 - auprc: 0.4965\n"
     ]
    }
   ],
   "source": [
    "# 5p wo chr1 test\n",
    "test_loss_hic, test_metric1_hic, test_metric2_hic = evaluate_model(model_hic_from_dir_5p_wo1, data_hic_5p_wo_chr, loss_label=loss_label, loss_fn=loss_fn)"
   ]
  },
  {
   "cell_type": "code",
   "execution_count": 12,
   "id": "718dcb0e",
   "metadata": {},
   "outputs": [
    {
     "name": "stdout",
     "output_type": "stream",
     "text": [
      "160/160 [==============================] - 87s 412ms/step - loss: 0.1275 - auroc: 0.8882 - auprc: 0.5009\n"
     ]
    }
   ],
   "source": [
    "# 5p only chr1 test\n",
    "test_loss_hic, test_metric1_hic, test_metric2_hic = evaluate_model(model_hic_from_dir_5p_wo1, data_hic_5p_keep_chr, loss_label=loss_label, loss_fn=loss_fn)"
   ]
  },
  {
   "cell_type": "markdown",
   "id": "547b20c2",
   "metadata": {},
   "source": [
    "# Testing how trained model on data without one chromosome predicts sequences from that chromosome"
   ]
  },
  {
   "cell_type": "code",
   "execution_count": null,
   "id": "df4409db",
   "metadata": {},
   "outputs": [],
   "source": [
    "# load model\n",
    "import layers\n",
    "\n",
    "model_dir_hic_5p_wo1 = \"/home/dkokot/Basenji_HiC/data/basset_model/wo_chr1_hic/model_best.h5\"\n",
    "model_hic_from_dir_5p_wo1 = tf.keras.models.load_model(model_dir_hic_5p_wo1, custom_objects={'StochasticReverseComplement': layers.StochasticReverseComplement(),  \n",
    "                                                                  'SwitchReverse': layers.SwitchReverse(), 'StochasticShift': layers.StochasticShift, \n",
    "                                                                  'GELU': layers.GELU(), 'GELU_HIC': layers.GELU_HIC, 'GELU_FINAL': layers.GELU_FINAL}, compile=False)"
   ]
  },
  {
   "cell_type": "markdown",
   "id": "8a45af05",
   "metadata": {},
   "source": [
    "# Evaluate model on test data from without chr set"
   ]
  },
  {
   "cell_type": "code",
   "execution_count": 12,
   "id": "b95d0cbe",
   "metadata": {},
   "outputs": [
    {
     "name": "stderr",
     "output_type": "stream",
     "text": [
      "2023-04-04 16:30:58.905513: I tensorflow/stream_executor/cuda/cuda_dnn.cc:384] Loaded cuDNN version 8100\n",
      "2023-04-04 16:31:00.149843: I tensorflow/core/platform/default/subprocess.cc:304] Start cannot spawn child process: No such file or directory\n"
     ]
    },
    {
     "name": "stdout",
     "output_type": "stream",
     "text": [
      "1712/1712 [==============================] - 861s 473ms/step - loss: 0.0883 - auroc: 0.9092 - auprc: 0.4990\n"
     ]
    }
   ],
   "source": [
    "# 5p wo chr1 test hic\n",
    "test_loss_hic, test_metric1_hic, test_metric2_hic = evaluate_model(model_hic_from_dir_5p_wo1, data_hic_5p_wo_chr, loss_label=loss_label, loss_fn=loss_fn)"
   ]
  },
  {
   "cell_type": "markdown",
   "id": "c0d397d4",
   "metadata": {},
   "source": [
    "# Evalute model on test data from set with only chromosome that is not inluded in training"
   ]
  },
  {
   "cell_type": "code",
   "execution_count": 14,
   "id": "f77beba1",
   "metadata": {},
   "outputs": [
    {
     "name": "stdout",
     "output_type": "stream",
     "text": [
      "160/160 [==============================] - 126s 475ms/step - loss: 0.1280 - auroc: 0.8879 - auprc: 0.5070\n"
     ]
    }
   ],
   "source": [
    "# 5p keep chr1 test hic\n",
    "test_loss_hic_keep_chr1, test_metric1_hic_keep_chr1, test_metric2_hic_keep_chr1 = evaluate_model(model_hic_from_dir_5p_wo1, data_hic_5p_keep_chr, loss_label=loss_label, loss_fn=loss_fn)"
   ]
  },
  {
   "cell_type": "code",
   "execution_count": null,
   "id": "c969888e",
   "metadata": {},
   "outputs": [],
   "source": []
  }
 ],
 "metadata": {
  "kernelspec": {
   "display_name": "basenji",
   "language": "python",
   "name": "basenji"
  },
  "language_info": {
   "codemirror_mode": {
    "name": "ipython",
    "version": 3
   },
   "file_extension": ".py",
   "mimetype": "text/x-python",
   "name": "python",
   "nbconvert_exporter": "python",
   "pygments_lexer": "ipython3",
   "version": "3.8.12"
  }
 },
 "nbformat": 4,
 "nbformat_minor": 5
}
