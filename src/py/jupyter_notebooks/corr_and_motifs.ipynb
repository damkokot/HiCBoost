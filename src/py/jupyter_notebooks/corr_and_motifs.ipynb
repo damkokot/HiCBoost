{
 "cells": [
  {
   "cell_type": "code",
   "execution_count": 1,
   "id": "49312abc-f789-48a6-ab4b-bebcdb99a598",
   "metadata": {},
   "outputs": [],
   "source": [
    "import tensorflow as tf\n",
    "import dataset_hic\n",
    "import keras\n",
    "import h5py\n",
    "import numpy as np\n",
    "import seaborn as sns\n",
    "import pandas as pd\n",
    "\n",
    "from basenji import dataset"
   ]
  },
  {
   "cell_type": "code",
   "execution_count": 2,
   "id": "1d386ef7-e7c4-42ee-99eb-453849c3237c",
   "metadata": {},
   "outputs": [],
   "source": [
    "# set paths to all necessary predictions and true labels\n",
    "targets = \"/data/basset_tfr/full_downsampled10p/\"\n",
    "preds_peaks = \"/results/basset_model/10peaks/preds.h5\"\n",
    "preds_hic = \"/results/basset_model/hic_10p/preds.h5\""
   ]
  },
  {
   "cell_type": "code",
   "execution_count": null,
   "id": "ec5ef57d-ce1e-472e-b18e-06d9f33998e9",
   "metadata": {},
   "outputs": [],
   "source": [
    "# read targets\n",
    "data = dataset.SeqDataset(targets,\n",
    "                              split_label='test',\n",
    "                              batch_size=64,\n",
    "                              shuffle_buffer=8192,\n",
    "                              mode='eval',\n",
    "                              tfr_pattern=None)\n",
    "seqs, targets = data.numpy(return_inputs=True, return_outputs=True)"
   ]
  },
  {
   "cell_type": "code",
   "execution_count": null,
   "id": "5889ab63-0b4f-4284-bfe4-e649d214e4a4",
   "metadata": {},
   "outputs": [],
   "source": [
    "import json\n",
    "from basenji import seqnn\n",
    "params_file = \"config/params_basset.json\"\n",
    "with open(params_file) as params_open:\n",
    "    params = json.load(params_open)\n",
    "params_model = params['model']\n",
    "params_train = params['train']\n",
    "\n",
    "\n",
    "\n",
    "# initialize model\n",
    "seqnn_model = seqnn.SeqNN(params_model)\n",
    "seqnn_model.restore(\"/results/basset_model/basset_wo_chr1/model_best.h5\", 0)\n",
    "seqnn_model.build_ensemble(False, [])"
   ]
  },
  {
   "cell_type": "code",
   "execution_count": 47,
   "id": "98157bc7-ff77-499a-bccb-e0527289fc6b",
   "metadata": {},
   "outputs": [
    {
     "name": "stdout",
     "output_type": "stream",
     "text": [
      "THE TFR FILES\n"
     ]
    }
   ],
   "source": [
    "# read targets\n",
    "data_10p = dataset.SeqDataset(\"/data/basset_tfr/full_downsampled10p/\",\n",
    "                              split_label='test',\n",
    "                              batch_size=128,\n",
    "                              shuffle_buffer=8192,\n",
    "                              mode='eval',\n",
    "                              tfr_pattern=None)"
   ]
  },
  {
   "cell_type": "code",
   "execution_count": 49,
   "id": "ea211149-4807-4713-8665-b6424c55d988",
   "metadata": {},
   "outputs": [],
   "source": [
    "from basenji import metrics\n",
    "seqnn_model.model.compile(optimizer=tf.keras.optimizers.SGD(),\n",
    "            loss=loss_fn,\n",
    "            metrics=[metrics.SeqAUC(curve='ROC', summarize=False),\n",
    "                     metrics.SeqAUC(curve='PR', summarize=False)])"
   ]
  },
  {
   "cell_type": "code",
   "execution_count": null,
   "id": "faa95d07-8bfa-4721-804e-4e60507cbc2c",
   "metadata": {},
   "outputs": [],
   "source": [
    "seqnn_model.model.evaluate(data_10p.dataset)"
   ]
  },
  {
   "cell_type": "code",
   "execution_count": null,
   "id": "50606659-161e-4db5-bcb5-deb62f3504dd",
   "metadata": {},
   "outputs": [],
   "source": [
    "config = tf.compat.v1.ConfigProto()\n",
    "config.gpu_options.allow_growth = True\n",
    "session = tf.compat.v1.Session(config=config)\n",
    "test_loss, test_metric1, test_metric2 = seqnn_model.evaluate(x=seqs, y=y, head_i=None, loss='poisson')"
   ]
  },
  {
   "cell_type": "code",
   "execution_count": 5,
   "id": "d16b38de-aa30-4f7c-881c-7acc2f439eb6",
   "metadata": {},
   "outputs": [],
   "source": [
    "# Since hic sequences (and so predictions made on them) were extracted based on a fraction of specific original data set\n",
    "# for each original peak we collected 62 neighbors, now their prediction scores have to be avaraged\n",
    "# to achieve same dimension as target and prediction targets peaks\n",
    "pred_obj_hic = h5py.File(preds_hic)\n",
    "pred_hic_set = np.array(pred_obj_hic.get('preds'))"
   ]
  },
  {
   "cell_type": "code",
   "execution_count": 6,
   "id": "7f90000c-ca5c-47c5-a92a-c5fde307f50c",
   "metadata": {},
   "outputs": [
    {
     "data": {
      "text/plain": [
       "(119769, 1, 1)"
      ]
     },
     "execution_count": 6,
     "metadata": {},
     "output_type": "execute_result"
    }
   ],
   "source": [
    "pred_hic_set.shape"
   ]
  },
  {
   "cell_type": "code",
   "execution_count": 5,
   "id": "0f33ac68-5e66-450a-b35e-501e29e18e10",
   "metadata": {},
   "outputs": [],
   "source": [
    "toDimension = []\n",
    "for i in range(0, len(pred_hic_set), 62):\n",
    "    hicMean = np.mean(pred_hic_set[i:i+62], axis=0)\n",
    "    toDimension.append(hicMean)\n"
   ]
  },
  {
   "cell_type": "code",
   "execution_count": 6,
   "id": "e720c5b8-ae16-4da0-9781-d9bb23b4898a",
   "metadata": {},
   "outputs": [],
   "source": [
    "toDimension = np.asarray(toDimension)\n",
    "pred_hic_set = toDimension"
   ]
  },
  {
   "cell_type": "code",
   "execution_count": 7,
   "id": "461e187e-5456-4716-9fd6-1d683960a9f9",
   "metadata": {},
   "outputs": [],
   "source": [
    "# lastly store into numpy array a peak preds\n",
    "pred_obj_peak = h5py.File(preds_peaks)\n",
    "pred_peak_set = np.array(pred_obj_peak.get('preds'))"
   ]
  },
  {
   "cell_type": "code",
   "execution_count": 9,
   "id": "b51b5e88-a7f8-4dc5-8964-3c6a7832b82c",
   "metadata": {},
   "outputs": [],
   "source": [
    "# as for Hi-C sequences we only consider one cell type (K562), its predictions\n",
    "# will be used in further analysis\n",
    "\n",
    "tg_set_ti = targets[:, :,120]\n",
    "# tg_set_ti.shape\n",
    "# # sample every few bins (adjust to plot the # points I want)\n",
    "ds_indexes = np.arange(0, tg_set_ti.shape[1], 8)\n",
    "\n",
    "# subset and flatten\n",
    "tg_ti_flat = tg_set_ti[:, ds_indexes].flatten().astype('float32')\n",
    "# pred_ti_flat = pred_peak_set[:, ds_indexes, 120].flatten().astype('float32')\n",
    "# pred_ti_hic_flat = pred_hic_set[:, ds_indexes, 120].flatten().astype('float32')"
   ]
  },
  {
   "cell_type": "code",
   "execution_count": 10,
   "id": "7bfdd9bc-82cf-479b-932f-e10073f4951a",
   "metadata": {},
   "outputs": [],
   "source": [
    "pred_ti_flat = pred_peak_set[:, :, 120].flatten().astype('float32')\n",
    "pred_ti_hic_flat = pred_hic_set[:].flatten().astype('float32')"
   ]
  },
  {
   "cell_type": "code",
   "execution_count": 11,
   "id": "cf361e55-9cd4-4b73-8c26-93847702bd62",
   "metadata": {},
   "outputs": [
    {
     "data": {
      "text/plain": [
       "(119769,)"
      ]
     },
     "execution_count": 11,
     "metadata": {},
     "output_type": "execute_result"
    }
   ],
   "source": [
    "pred_ti_flat.shape"
   ]
  },
  {
   "cell_type": "code",
   "execution_count": 12,
   "id": "d8943f6c-0ae2-427d-95e6-9564aceddaf1",
   "metadata": {},
   "outputs": [
    {
     "data": {
      "text/plain": [
       "(119769,)"
      ]
     },
     "execution_count": 12,
     "metadata": {},
     "output_type": "execute_result"
    }
   ],
   "source": [
    "tg_ti_flat.shape"
   ]
  },
  {
   "cell_type": "code",
   "execution_count": 13,
   "id": "9aa56f1a-3f12-46b8-a868-fe0e5ad56c8c",
   "metadata": {},
   "outputs": [],
   "source": [
    "# call peaks\n",
    "from scipy.stats import poisson\n",
    "def ben_hoch(p_values):\n",
    "  \"\"\" Convert the given p-values to q-values using Benjamini-Hochberg FDR. \"\"\"\n",
    "  m = len(p_values)\n",
    "\n",
    "  # attach original indexes to p-values\n",
    "  p_k = [(p_values[k], k) for k in range(m)]\n",
    "\n",
    "  # sort by p-value\n",
    "  p_k.sort()\n",
    "\n",
    "  # compute q-value and attach original index to front\n",
    "  k_q = [(p_k[i][1], p_k[i][0] * m // (i + 1)) for i in range(m)]\n",
    "\n",
    "  # re-sort by original index\n",
    "  k_q.sort()\n",
    "\n",
    "  # drop original indexes\n",
    "  q_values = [k_q[k][1] for k in range(m)]\n",
    "\n",
    "  return q_values\n",
    "\n",
    "test_targets_ti_lambda = np.mean(tg_ti_flat)\n",
    "test_targets_pvals = 1 - poisson.cdf(\n",
    "  np.round(tg_ti_flat) - 1, mu=test_targets_ti_lambda)\n",
    "test_targets_qvals = np.array(ben_hoch(test_targets_pvals))\n",
    "test_targets_peaks = test_targets_qvals < 0.01\n",
    "test_targets_peaks_str = np.where(test_targets_peaks, 'Peak',\n",
    "                                'Background')"
   ]
  },
  {
   "cell_type": "code",
   "execution_count": 14,
   "id": "7daf46ca-5864-46cb-815e-fa7d5367d76d",
   "metadata": {},
   "outputs": [],
   "source": [
    "test_targets_peaks = test_targets_peaks.astype(int)"
   ]
  },
  {
   "cell_type": "code",
   "execution_count": 14,
   "id": "38c4d44c-ee9d-477a-8180-1ff376cf655c",
   "metadata": {},
   "outputs": [],
   "source": [
    "np.set_printoptions(formatter={'float_kind':'{:f}'.format})"
   ]
  },
  {
   "cell_type": "code",
   "execution_count": null,
   "id": "9e381830-cc53-4434-838e-594c70f72084",
   "metadata": {},
   "outputs": [],
   "source": [
    "df = pd.DataFrame({'peaks': pred_ti_flat, 'hic': pred_ti_hic_flat, 'targets': tg_ti_flat})\n",
    "sns.histplot(data=df)"
   ]
  },
  {
   "cell_type": "code",
   "execution_count": 15,
   "id": "09c20ffb-b8ac-4300-9e9d-aecaa3e8ec5f",
   "metadata": {},
   "outputs": [],
   "source": [
    "inds = np.where(test_targets_peaks > 0)\n",
    "peaks_tgs = tg_ti_flat[inds[0]]\n",
    "peaks_preds = pred_ti_flat[inds[0]]\n",
    "hic_preds = pred_ti_hic_flat[inds[0]]"
   ]
  },
  {
   "cell_type": "code",
   "execution_count": null,
   "id": "c301239c-c4ba-42c3-9043-a2bbc556ce9f",
   "metadata": {},
   "outputs": [],
   "source": [
    "inds_low = np.where(>test_targets_peaks > 0)"
   ]
  },
  {
   "cell_type": "code",
   "execution_count": 91,
   "id": "4ba765b2-66a2-46ff-ac83-e2287df10a6e",
   "metadata": {},
   "outputs": [
    {
     "data": {
      "text/plain": [
       "38"
      ]
     },
     "execution_count": 91,
     "metadata": {},
     "output_type": "execute_result"
    }
   ],
   "source": [
    "len(peaks_preds[peaks_preds>0.5])"
   ]
  },
  {
   "cell_type": "code",
   "execution_count": null,
   "id": "ef2a9cd6-afa5-450a-8e73-579c1ec64db8",
   "metadata": {},
   "outputs": [],
   "source": [
    "sns.scatterplot(x=peaks_tgs, y=peaks_preds)"
   ]
  },
  {
   "cell_type": "code",
   "execution_count": 17,
   "id": "e69b82d4-b8af-4a3a-9949-4f6c0577e6c0",
   "metadata": {},
   "outputs": [],
   "source": [
    "from scipy.stats.stats import pearsonr, spearmanr\n",
    "from sklearn.metrics import confusion_matrix, precision_score, recall_score\n",
    "%matplotlib inline\n",
    "import matplotlib\n",
    "# matplotlib.use('PDF')\n",
    "import matplotlib.pyplot as plt\n",
    "#\n",
    "intensity_matrix = pd.DataFrame({ 'GroundTruth': peaks_tgs,'Basset': peaks_preds, 'HiCBoost': hic_preds})\n",
    "intensity_matrixT = intensity_matrix.T"
   ]
  },
  {
   "cell_type": "code",
   "execution_count": 18,
   "id": "9832318d-8a5f-45ff-97d8-330ffc40761f",
   "metadata": {},
   "outputs": [],
   "source": [
    "# intensity_matrix = pd.DataFrame({ 'GroundTruth': peaks_tgs,'BB': peaks_preds, 'HiCBoost': hic_preds})\n",
    "log2_intensity = np.log2(intensity_matrix)"
   ]
  },
  {
   "cell_type": "code",
   "execution_count": 22,
   "id": "7d91a67d-ba6f-480b-a129-ccfc7200f69a",
   "metadata": {},
   "outputs": [
    {
     "data": {
      "text/plain": [
       "<AxesSubplot:ylabel='Count'>"
      ]
     },
     "execution_count": 22,
     "metadata": {},
     "output_type": "execute_result"
    },
    {
     "data": {
      "image/png": "[encoded data removed]",
      "text/plain": [
       "<Figure size 640x480 with 1 Axes>"
      ]
     },
     "metadata": {},
     "output_type": "display_data"
    }
   ],
   "source": [
    "sns.histplot(log2_intensity)"
   ]
  },
  {
   "cell_type": "code",
   "execution_count": 48,
   "id": "37c310ce-af88-4fd3-9fb9-e0f81f43c42a",
   "metadata": {},
   "outputs": [
    {
     "data": {
      "text/plain": [
       "<AxesSubplot:>"
      ]
     },
     "execution_count": 48,
     "metadata": {},
     "output_type": "execute_result"
    },
    {
     "data": {
      "image/png": "[encoded data removed]",
      "text/plain": [
       "<Figure size 2000x500 with 2 Axes>"
      ]
     },
     "metadata": {},
     "output_type": "display_data"
    }
   ],
   "source": [
    "plt.figure(figsize=(20, 5))\n",
    "sns.heatmap(intensity_matrix, cmap=\"crest\")"
   ]
  },
  {
   "cell_type": "code",
   "execution_count": 112,
   "id": "042a825d-8706-4efe-bca1-6afcdada7dcd",
   "metadata": {},
   "outputs": [
    {
     "data": {
      "text/plain": [
       "array([0, 0, 0, ..., 0, 0, 0])"
      ]
     },
     "execution_count": 112,
     "metadata": {},
     "output_type": "execute_result"
    }
   ],
   "source": [
    "test_targets_peaks = test_targets_peaks.astype(int)\n",
    "test_targets_peaks"
   ]
  },
  {
   "cell_type": "code",
   "execution_count": 122,
   "id": "2e34e061-3ea8-4e25-8178-f1d6a938600f",
   "metadata": {},
   "outputs": [],
   "source": []
  },
  {
   "cell_type": "code",
   "execution_count": 69,
   "id": "d288bf86-18f5-4039-91c3-be321ed6c828",
   "metadata": {},
   "outputs": [],
   "source": [
    "thresholds = np.arange(0, 1.05 , 0.05)[: : -1]\n",
    "\n",
    "def metrics(thresh, tgs, preds):\n",
    "    to_df = {'thresh': list(thresh), 'precision': [], 'recall': [], 'fpr': [], 'tp': [], 'fp': [], 'tn': [], 'fn': []}\n",
    "    for t in thresh:\n",
    "        preds_t = ( preds > t ).astype(int)\n",
    "\n",
    "        # reacll and precision\n",
    "        prec = precision_score(tgs, preds_t)\n",
    "        recall = recall_score(tgs, preds_t)\n",
    "        to_df['precision'].append(prec)\n",
    "        to_df['recall'].append(recall)\n",
    "        \n",
    "\n",
    "        # confusion matrix\n",
    "        conf_m_peaks = confusion_matrix(tgs, preds_t)\n",
    "        tn, fp, fn, tp = conf_m_peaks.ravel()\n",
    "        fpr = fp/(fp+tn)\n",
    "        to_df['tp'].append(tp)\n",
    "        to_df['fp'].append(fp)\n",
    "        to_df['tn'].append(tn)\n",
    "        to_df['fn'].append(fn)\n",
    "        to_df['fpr'].append(fpr)\n",
    "\n",
    "\n",
    "        # conf_m_peaks[0, [0, 1]] = conf_m_peaks[0, [1, 0]]\n",
    "\n",
    "        # plot matrix for each t\n",
    "        # sns.heatmap(conf_m_peaks, \n",
    "        # annot=True,\n",
    "        # fmt='g', \n",
    "        # xticklabels=['Closed','Open'],\n",
    "        # yticklabels=['Closed','Open'])\n",
    "        # plt.ylabel('Actual',fontsize=13)\n",
    "        # plt.xlabel('Prediction',fontsize=13)\n",
    "        # plt.title(f'Threshold = {t}',fontsize=17)\n",
    "        # plt.show()\n",
    "    df = pd.DataFrame(to_df)\n",
    "    \n",
    "    return df\n",
    "\n",
    "        "
   ]
  },
  {
   "cell_type": "code",
   "execution_count": 130,
   "id": "89662d3b-7e7d-4453-b5f6-e8f853f2b609",
   "metadata": {},
   "outputs": [
    {
     "data": {
      "text/plain": [
       "array([0, 0, 0, ..., 0, 0, 0])"
      ]
     },
     "execution_count": 130,
     "metadata": {},
     "output_type": "execute_result"
    }
   ],
   "source": [
    "test_targets_peaks = test_targets_peaks.astype(int)\n",
    "test_targets_peaks"
   ]
  },
  {
   "cell_type": "code",
   "execution_count": 152,
   "id": "f570496d-2e58-4359-9eb5-bbc2de9fd3b6",
   "metadata": {},
   "outputs": [
    {
     "data": {
      "text/plain": [
       "(array([], dtype=int64),)"
      ]
     },
     "execution_count": 152,
     "metadata": {},
     "output_type": "execute_result"
    }
   ],
   "source": [
    "preds_t = ( pred_ti_flat > 1 ).astype(int)\n"
   ]
  },
  {
   "cell_type": "code",
   "execution_count": 56,
   "id": "d41fed98-fd25-47a9-a63a-8471a5f1b68b",
   "metadata": {},
   "outputs": [
    {
     "data": {
      "text/plain": [
       "array([1.000000, 0.950000, 0.900000, 0.850000, 0.800000, 0.750000,\n",
       "       0.700000, 0.650000, 0.600000, 0.550000, 0.500000, 0.450000,\n",
       "       0.400000, 0.350000, 0.300000, 0.250000, 0.200000, 0.150000,\n",
       "       0.100000, 0.050000, 0.000000])"
      ]
     },
     "execution_count": 56,
     "metadata": {},
     "output_type": "execute_result"
    }
   ],
   "source": [
    "thresholds"
   ]
  },
  {
   "cell_type": "code",
   "execution_count": null,
   "id": "2ba85c6d-be23-478a-8c00-da874c591f9e",
   "metadata": {},
   "outputs": [],
   "source": [
    "df_peaks_metrics = metrics(thresholds, test_targets_peaks, pred_ti_flat)"
   ]
  },
  {
   "cell_type": "code",
   "execution_count": null,
   "id": "c3b2f90e-8b37-472d-b891-c260d79a33cf",
   "metadata": {},
   "outputs": [],
   "source": [
    "df_hic_metrics = metrics(thresholds, test_targets_peaks, pred_ti_hic_flat)"
   ]
  },
  {
   "cell_type": "code",
   "execution_count": 72,
   "id": "4a07e9ff-660a-4b9b-b731-716e6d8a46a1",
   "metadata": {},
   "outputs": [
    {
     "name": "stdout",
     "output_type": "stream",
     "text": [
      "    thresh  precision    recall       fpr   tp      fp      tn   fn\n",
      "0     1.00   0.000000  0.000000  0.000000    0       0  119627  142\n",
      "1     0.95   0.032258  0.035211  0.001254    5     150  119477  137\n",
      "2     0.90   0.038585  0.084507  0.002499   12     299  119328  130\n",
      "3     0.85   0.039261  0.119718  0.003477   17     416  119211  125\n",
      "4     0.80   0.038745  0.147887  0.004355   21     521  119106  121\n",
      "5     0.75   0.033333  0.154930  0.005333   22     638  118989  120\n",
      "6     0.70   0.032300  0.176056  0.006261   25     749  118878  117\n",
      "7     0.65   0.032438  0.204225  0.007231   29     865  118762  113\n",
      "8     0.60   0.031132  0.232394  0.008585   33    1027  118600  109\n",
      "9     0.55   0.029150  0.253521  0.010023   36    1199  118428  106\n",
      "10    0.50   0.026010  0.267606  0.011895   38    1423  118204  104\n",
      "11    0.45   0.025375  0.309859  0.014127   44    1690  117937   98\n",
      "12    0.40   0.023472  0.338028  0.016694   48    1997  117630   94\n",
      "13    0.35   0.021440  0.373239  0.020221   53    2419  117208   89\n",
      "14    0.30   0.018658  0.401408  0.025061   57    2998  116629   85\n",
      "15    0.25   0.016927  0.450704  0.031072   64    3717  115910   78\n",
      "16    0.20   0.013701  0.464789  0.039715   66    4751  114876   76\n",
      "17    0.15   0.011985  0.549296  0.053750   78    6430  113197   64\n",
      "18    0.10   0.009188  0.619718  0.079330   88    9490  110137   54\n",
      "19    0.05   0.006160  0.774648  0.148353  110   17747  101880   32\n",
      "20    0.00   0.001186  1.000000  1.000000  142  119627       0    0\n"
     ]
    }
   ],
   "source": [
    "print(df_peaks_metrics)"
   ]
  },
  {
   "cell_type": "code",
   "execution_count": 73,
   "id": "4272359c-61fa-40bb-8062-b3b1b23ab1c0",
   "metadata": {},
   "outputs": [
    {
     "name": "stdout",
     "output_type": "stream",
     "text": [
      "    thresh  precision    recall       fpr   tp      fp      tn   fn\n",
      "0     1.00   0.000000  0.000000  0.000000    0       0  119627  142\n",
      "1     0.95   0.033457  0.063380  0.002173    9     260  119367  133\n",
      "2     0.90   0.033827  0.112676  0.003820   16     457  119170  126\n",
      "3     0.85   0.032626  0.140845  0.004957   20     593  119034  122\n",
      "4     0.80   0.034674  0.176056  0.005818   25     696  118931  117\n",
      "5     0.75   0.033333  0.197183  0.006788   28     812  118815  114\n",
      "6     0.70   0.032666  0.218310  0.007674   31     918  118709  111\n",
      "7     0.65   0.032197  0.239437  0.008543   34    1022  118605  108\n",
      "8     0.60   0.031119  0.260563  0.009630   37    1152  118475  105\n",
      "9     0.55   0.030303  0.288732  0.010967   41    1312  118315  101\n",
      "10    0.50   0.027541  0.295775  0.012397   42    1483  118144  100\n",
      "11    0.45   0.025952  0.316901  0.014119   45    1689  117938   97\n",
      "12    0.40   0.024618  0.352113  0.016560   50    1981  117646   92\n",
      "13    0.35   0.023275  0.394366  0.019644   56    2350  117277   86\n",
      "14    0.30   0.021181  0.429577  0.023565   61    2819  116808   81\n",
      "15    0.25   0.018286  0.450704  0.028723   64    3436  116191   78\n",
      "16    0.20   0.015808  0.485915  0.035912   69    4296  115331   73\n",
      "17    0.15   0.013674  0.535211  0.045826   76    5482  114145   66\n",
      "18    0.10   0.011236  0.598592  0.062528   85    7480  112147   57\n",
      "19    0.05   0.007608  0.690141  0.106866   98   12784  106843   44\n",
      "20    0.00   0.001186  1.000000  1.000000  142  119627       0    0\n"
     ]
    }
   ],
   "source": [
    "print(df_hic_metrics)"
   ]
  },
  {
   "cell_type": "code",
   "execution_count": 63,
   "id": "9c13cd2a-7058-4708-ae5e-2fa9452e3b28",
   "metadata": {},
   "outputs": [
    {
     "data": {
      "text/plain": [
       "0     0.000000\n",
       "1     0.033457\n",
       "2     0.033827\n",
       "3     0.032626\n",
       "4     0.034674\n",
       "5     0.033333\n",
       "6     0.032666\n",
       "7     0.032197\n",
       "8     0.031119\n",
       "9     0.030303\n",
       "10    0.027541\n",
       "11    0.025952\n",
       "12    0.024618\n",
       "13    0.023275\n",
       "14    0.021181\n",
       "15    0.018286\n",
       "16    0.015808\n",
       "17    0.013674\n",
       "18    0.011236\n",
       "19    0.007608\n",
       "20    0.001186\n",
       "Name: precision, dtype: float64"
      ]
     },
     "execution_count": 63,
     "metadata": {},
     "output_type": "execute_result"
    }
   ],
   "source": [
    "df_hic_metrics.precision"
   ]
  },
  {
   "cell_type": "code",
   "execution_count": null,
   "id": "d845f2f5-0a65-4dd5-b192-c026a0fb1d91",
   "metadata": {},
   "outputs": [],
   "source": []
  },
  {
   "cell_type": "code",
   "execution_count": 84,
   "id": "b7ad8b3a-55b9-476d-8322-cb6e16d241f8",
   "metadata": {},
   "outputs": [],
   "source": [
    "tg_vs_pk = pearsonr(peaks_tgs, peaks_preds)\n",
    "tg_vs_hic = pearsonr(peaks_tgs,hic_preds)\n",
    "pk_vs_hic = pearsonr(peaks_preds, hic_preds)"
   ]
  },
  {
   "cell_type": "code",
   "execution_count": 75,
   "id": "3a7cf20b-997c-464d-89cc-1c9342576272",
   "metadata": {},
   "outputs": [],
   "source": [
    "df_nonzero = pd.DataFrame({'peaks': peaks_preds, 'hic': hic_preds, 'targets': peaks_tgs})"
   ]
  },
  {
   "cell_type": "code",
   "execution_count": null,
   "id": "9c2c9208-d1c1-43a9-b2a9-9eef468ea1fb",
   "metadata": {},
   "outputs": [],
   "source": [
    "sns.histplot(data=df_nonzero)"
   ]
  },
  {
   "cell_type": "code",
   "execution_count": 61,
   "id": "f948e3c2-7d82-49da-abe2-43e4a289cdff",
   "metadata": {},
   "outputs": [
    {
     "data": {
      "text/plain": [
       "array([0, 0, 0, ..., 0, 0, 0])"
      ]
     },
     "execution_count": 61,
     "metadata": {},
     "output_type": "execute_result"
    }
   ],
   "source": [
    "test_targets_peaks.astype(int)"
   ]
  },
  {
   "cell_type": "code",
   "execution_count": null,
   "id": "1ebb1070-8d00-4247-ad7c-f1b887657d6d",
   "metadata": {},
   "outputs": [],
   "source": [
    "sns.histplot(data=df, x=np.log2(df.peaks))"
   ]
  },
  {
   "cell_type": "code",
   "execution_count": 18,
   "id": "d8185e28-b0f2-4af1-9a34-2067e716744f",
   "metadata": {},
   "outputs": [],
   "source": [
    "x = tf.convert_to_tensor(tg_ti_flat, dtype=tf.float32)\n",
    "y = tf.convert_to_tensor(pred_ti_flat, dtype=tf.float32)\n",
    "z = tf.convert_to_tensor(pred_ti_hic_flat, dtype=tf.float32)"
   ]
  },
  {
   "cell_type": "code",
   "execution_count": 75,
   "id": "6b2d593e-b9b7-4ef5-8532-2d5c229e8bef",
   "metadata": {},
   "outputs": [],
   "source": [
    "# call peaks\n",
    "from scipy.stats import poisson\n",
    "def ben_hoch(p_values):\n",
    "  \"\"\" Convert the given p-values to q-values using Benjamini-Hochberg FDR. \"\"\"\n",
    "  m = len(p_values)\n",
    "\n",
    "  # attach original indexes to p-values\n",
    "  p_k = [(p_values[k], k) for k in range(m)]\n",
    "\n",
    "  # sort by p-value\n",
    "  p_k.sort()\n",
    "\n",
    "  # compute q-value and attach original index to front\n",
    "  k_q = [(p_k[i][1], p_k[i][0] * m // (i + 1)) for i in range(m)]\n",
    "\n",
    "  # re-sort by original index\n",
    "  k_q.sort()\n",
    "\n",
    "  # drop original indexes\n",
    "  q_values = [k_q[k][1] for k in range(m)]\n",
    "\n",
    "  return q_values\n",
    "\n",
    "test_targets_ti_lambda = np.mean(tg_ti_flat)\n",
    "test_targets_pvals = 1 - poisson.cdf(\n",
    "  np.round(tg_ti_flat) - 1, mu=test_targets_ti_lambda)\n",
    "test_targets_qvals = np.array(ben_hoch(test_targets_pvals))\n",
    "test_targets_peaks = test_targets_qvals < 0.01\n",
    "test_targets_peaks_str = np.where(test_targets_peaks, 'Peak',\n",
    "                                'Background')"
   ]
  },
  {
   "cell_type": "code",
   "execution_count": 76,
   "id": "a027dc2a-0deb-469d-b502-ae6c173574b2",
   "metadata": {},
   "outputs": [
    {
     "data": {
      "text/plain": [
       "array([False, False, False, ..., False, False, False])"
      ]
     },
     "execution_count": 76,
     "metadata": {},
     "output_type": "execute_result"
    }
   ],
   "source": [
    "test_targets_peaks"
   ]
  },
  {
   "cell_type": "code",
   "execution_count": 14,
   "id": "aa26e218-c398-4496-9ecf-89cb76b8bea1",
   "metadata": {},
   "outputs": [
    {
     "data": {
      "image/png": "[encoded data removed]",
      "text/plain": [
       "<Figure size 640x480 with 1 Axes>"
      ]
     },
     "metadata": {},
     "output_type": "display_data"
    }
   ],
   "source": [
    "%matplotlib inline\n",
    "import matplotlib\n",
    "# matplotlib.use('PDF')\n",
    "import matplotlib.pyplot as plt\n",
    "import seaborn as sns\n",
    "\n",
    "from sklearn.metrics import roc_auc_score, roc_curve\n",
    "from sklearn.metrics import precision_recall_curve, average_precision_score\n",
    "\n",
    "# cases_preds = [pred_ti_flat, pred_avg_ti_flat, pred_hic_ti_flat]\n",
    "# aurocs = []\n",
    "# aurprcs = []\n",
    "\n",
    "# fig, axes = plt.subplots(ncols=3, figsizes=(15,5))\n",
    "\n",
    "plt.figure()\n",
    "fpr, tpr, _ = roc_curve(test_targets_peaks, pred_ti_flat)\n",
    "auroc = roc_auc_score(test_targets_peaks, pred_ti_flat)\n",
    "auprc = average_precision_score(test_targets_peaks, pred_ti_flat)\n",
    "plt.title(\"Peaks\") \n",
    "plt.plot(\n",
    "  [0, 1], [0, 1], c='black', linewidth=1, linestyle='--', alpha=0.7)\n",
    "plt.plot(fpr, tpr, c='black')\n",
    "ax = plt.gca()\n",
    "ax.set_xlabel('False positive rate')\n",
    "ax.set_ylabel('True positive rate')\n",
    "ax.text(\n",
    "  0.99, 0.02, 'AUROC %.3f' % auroc,\n",
    "  horizontalalignment='right')  # , fontsize=14)\n",
    "ax.grid(True, linestyle=':')\n",
    "plt.show()"
   ]
  },
  {
   "cell_type": "code",
   "execution_count": 15,
   "id": "eced0901-3791-47f2-89e8-09382dc06499",
   "metadata": {},
   "outputs": [],
   "source": [
    "# transform to log2\n",
    "tg_ti_flat_log = np.log2(tg_ti_flat, where=0<tg_ti_flat, out=0*tg_ti_flat)\n",
    "pred_ti_flat_log = np.log2(pred_ti_flat, where=0<pred_ti_flat, out=0*pred_ti_flat)\n",
    "pred_ti_hic_flat_log = np.log2(pred_ti_hic_flat, where=0<pred_ti_hic_flat, out=0*pred_ti_hic_flat)"
   ]
  },
  {
   "cell_type": "code",
   "execution_count": 169,
   "id": "2c29b4e3-3af5-4f53-8305-0e677acef1ef",
   "metadata": {},
   "outputs": [],
   "source": [
    "dupa = np.log2(tg_ti_flat, where=0<tg_ti_flat, out=0*tg_ti_flat)"
   ]
  },
  {
   "cell_type": "code",
   "execution_count": null,
   "id": "f5eea86d-aa77-484a-b493-331554505340",
   "metadata": {},
   "outputs": [],
   "source": [
    "pred_ti_flat_log[tg_ti_flat_log != 0]"
   ]
  },
  {
   "cell_type": "code",
   "execution_count": null,
   "id": "84561de2-fd6b-4381-a078-59882ad8a25f",
   "metadata": {},
   "outputs": [],
   "source": [
    "inds = [tg_ti_flat_log != 0]\n",
    "tg_ti_flat_log =tg_ti_flat_log[inds]\n",
    "pred_ti_flat_log = pred_ti_flat_log[inds]\n",
    "pred_ti_hic_flat_log = pred_ti_hic_flat_log[inds]"
   ]
  },
  {
   "cell_type": "code",
   "execution_count": 82,
   "id": "8c6e293b-0190-41b5-a5ff-7d202c581a84",
   "metadata": {},
   "outputs": [],
   "source": [
    "from scipy.stats.stats import pearsonr, spearmanr"
   ]
  },
  {
   "cell_type": "code",
   "execution_count": 117,
   "id": "dcbb6a5b-da13-4055-8808-57103f2136de",
   "metadata": {},
   "outputs": [],
   "source": [
    "# calcualte correlation (pearsonR)\n",
    "# target vs peaks preds\n",
    "# target vs hic preds\n",
    "# peaks preds vs hic preds\n",
    "\n",
    "#pred_ti_flat.iloc[pred_ti_flat > 0]\n",
    "inds = np.asarray(tg_ti_flat>0).nonzero()\n",
    "tg_ti_flat = tg_ti_flat[inds]\n",
    "pred_ti_flat = pred_ti_flat[inds]\n",
    "pred_ti_hic_flat = pred_ti_hic_flat[inds]\n",
    "# tg_vs_pk = pearsonr(list(tg_ti_flat),list(pred_ti_flat))\n",
    "# tg_vs_hic = pearsonr(list(tg_ti_flat),list(pred_ti_hic_flat))\n",
    "# pk_vs_hic = pearsonr(list(pred_ti_flat),list(pred_ti_hic_flat))"
   ]
  },
  {
   "cell_type": "code",
   "execution_count": 116,
   "id": "b096534b-e476-4999-a197-07a14a775c42",
   "metadata": {},
   "outputs": [
    {
     "data": {
      "text/plain": [
       "array([False,  True, False, ..., False, False, False])"
      ]
     },
     "execution_count": 116,
     "metadata": {},
     "output_type": "execute_result"
    }
   ],
   "source": [
    "inds"
   ]
  },
  {
   "cell_type": "code",
   "execution_count": 126,
   "id": "7196c211-ba7b-4373-8010-9ff9c8f4f16c",
   "metadata": {},
   "outputs": [],
   "source": [
    "a = np.log2(tg_ti_flat)\n",
    "b =np.log2(pred_ti_flat)\n",
    "c = np.log2(pred_ti_hic_flat)"
   ]
  },
  {
   "cell_type": "code",
   "execution_count": 127,
   "id": "963fa1a0-53e3-48d5-b80c-cf738898c358",
   "metadata": {},
   "outputs": [],
   "source": [
    "tg_vs_pk = spearmanr(list(a),list(b))\n",
    "tg_vs_hic = spearmanr(list(a),list(c))\n",
    "pk_vs_hic = spearmanr(list(b),list(c))"
   ]
  },
  {
   "cell_type": "code",
   "execution_count": 128,
   "id": "58a1ea77-ee33-4273-9796-cf199477a19d",
   "metadata": {},
   "outputs": [],
   "source": [
    "summ_df = pd.DataFrame({ 'Target': list(a) , 'Peaks_Predictions': list(b), 'Neighbors_Predictions': c})"
   ]
  },
  {
   "cell_type": "code",
   "execution_count": 129,
   "id": "162ea5f2-f3d4-4654-84a1-ec2c32246f98",
   "metadata": {},
   "outputs": [
    {
     "name": "stdout",
     "output_type": "stream",
     "text": [
      "0.145\n",
      "0.061\n",
      "0.258\n"
     ]
    }
   ],
   "source": [
    "print(round(tg_vs_pk[0], 3))\n",
    "print(round(tg_vs_hic[0], 3))\n",
    "print(round(pk_vs_hic[0], 3))"
   ]
  },
  {
   "cell_type": "code",
   "execution_count": 130,
   "id": "6114867e-afe4-4b56-93de-3949b2b7a476",
   "metadata": {},
   "outputs": [
    {
     "data": {
      "text/html": [
       "<div>\n",
       "<style scoped>\n",
       "    .dataframe tbody tr th:only-of-type {\n",
       "        vertical-align: middle;\n",
       "    }\n",
       "\n",
       "    .dataframe tbody tr th {\n",
       "        vertical-align: top;\n",
       "    }\n",
       "\n",
       "    .dataframe thead th {\n",
       "        text-align: right;\n",
       "    }\n",
       "</style>\n",
       "<table border=\"1\" class=\"dataframe\">\n",
       "  <thead>\n",
       "    <tr style=\"text-align: right;\">\n",
       "      <th></th>\n",
       "      <th>Target</th>\n",
       "      <th>Peaks_Predictions</th>\n",
       "      <th>Neighbors_Predictions</th>\n",
       "    </tr>\n",
       "  </thead>\n",
       "  <tbody>\n",
       "    <tr>\n",
       "      <th>0</th>\n",
       "      <td>-1.292641</td>\n",
       "      <td>-4.369733</td>\n",
       "      <td>-5.286613</td>\n",
       "    </tr>\n",
       "    <tr>\n",
       "      <th>1</th>\n",
       "      <td>0.000000</td>\n",
       "      <td>-0.698504</td>\n",
       "      <td>-3.687117</td>\n",
       "    </tr>\n",
       "    <tr>\n",
       "      <th>2</th>\n",
       "      <td>-0.168693</td>\n",
       "      <td>-1.267833</td>\n",
       "      <td>-4.744971</td>\n",
       "    </tr>\n",
       "    <tr>\n",
       "      <th>3</th>\n",
       "      <td>0.000000</td>\n",
       "      <td>-0.779622</td>\n",
       "      <td>-4.712287</td>\n",
       "    </tr>\n",
       "    <tr>\n",
       "      <th>4</th>\n",
       "      <td>0.000000</td>\n",
       "      <td>-0.315251</td>\n",
       "      <td>-4.137362</td>\n",
       "    </tr>\n",
       "    <tr>\n",
       "      <th>...</th>\n",
       "      <td>...</td>\n",
       "      <td>...</td>\n",
       "      <td>...</td>\n",
       "    </tr>\n",
       "    <tr>\n",
       "      <th>107</th>\n",
       "      <td>0.000000</td>\n",
       "      <td>-3.270379</td>\n",
       "      <td>-3.791766</td>\n",
       "    </tr>\n",
       "    <tr>\n",
       "      <th>108</th>\n",
       "      <td>0.000000</td>\n",
       "      <td>-6.256007</td>\n",
       "      <td>-4.854068</td>\n",
       "    </tr>\n",
       "    <tr>\n",
       "      <th>109</th>\n",
       "      <td>0.000000</td>\n",
       "      <td>-4.181418</td>\n",
       "      <td>-4.507145</td>\n",
       "    </tr>\n",
       "    <tr>\n",
       "      <th>110</th>\n",
       "      <td>0.000000</td>\n",
       "      <td>-0.036381</td>\n",
       "      <td>-4.282323</td>\n",
       "    </tr>\n",
       "    <tr>\n",
       "      <th>111</th>\n",
       "      <td>0.000000</td>\n",
       "      <td>-2.238449</td>\n",
       "      <td>-5.225213</td>\n",
       "    </tr>\n",
       "  </tbody>\n",
       "</table>\n",
       "<p>112 rows × 3 columns</p>\n",
       "</div>"
      ],
      "text/plain": [
       "       Target  Peaks_Predictions  Neighbors_Predictions\n",
       "0   -1.292641          -4.369733              -5.286613\n",
       "1    0.000000          -0.698504              -3.687117\n",
       "2   -0.168693          -1.267833              -4.744971\n",
       "3    0.000000          -0.779622              -4.712287\n",
       "4    0.000000          -0.315251              -4.137362\n",
       "..        ...                ...                    ...\n",
       "107  0.000000          -3.270379              -3.791766\n",
       "108  0.000000          -6.256007              -4.854068\n",
       "109  0.000000          -4.181418              -4.507145\n",
       "110  0.000000          -0.036381              -4.282323\n",
       "111  0.000000          -2.238449              -5.225213\n",
       "\n",
       "[112 rows x 3 columns]"
      ]
     },
     "execution_count": 130,
     "metadata": {},
     "output_type": "execute_result"
    }
   ],
   "source": [
    "summ_df"
   ]
  },
  {
   "cell_type": "code",
   "execution_count": 131,
   "id": "1038400e-fb59-4866-a3f4-6850944a1105",
   "metadata": {},
   "outputs": [
    {
     "data": {
      "text/plain": [
       "<AxesSubplot:xlabel='Target', ylabel='Peaks_Predictions'>"
      ]
     },
     "execution_count": 131,
     "metadata": {},
     "output_type": "execute_result"
    },
    {
     "data": {
      "image/png": "[encoded data removed]",
      "text/plain": [
       "<Figure size 640x480 with 1 Axes>"
      ]
     },
     "metadata": {},
     "output_type": "display_data"
    }
   ],
   "source": [
    "import matplotlib.pyplot as plt\n",
    "\n",
    "# fig, ax = plt.subplots() \n",
    "\n",
    "\n",
    "sns.scatterplot(data=summ_df, x='Target', y='Peaks_Predictions')"
   ]
  },
  {
   "cell_type": "code",
   "execution_count": 88,
   "id": "9a93b148-705a-4b16-b236-9627c39c1b05",
   "metadata": {},
   "outputs": [
    {
     "data": {
      "text/plain": [
       "'Peaks_Predictions'"
      ]
     },
     "execution_count": 88,
     "metadata": {},
     "output_type": "execute_result"
    }
   ],
   "source": [
    "summ_df.columns[1]"
   ]
  },
  {
   "cell_type": "code",
   "execution_count": 89,
   "id": "0c928c94-77b3-4244-a775-8ef8700545dc",
   "metadata": {},
   "outputs": [
    {
     "data": {
      "text/plain": [
       "0     -4.369733\n",
       "1     -0.698504\n",
       "2     -1.267833\n",
       "3     -0.779622\n",
       "4     -0.315251\n",
       "         ...   \n",
       "107   -3.270379\n",
       "108   -6.256007\n",
       "109   -4.181418\n",
       "110   -0.036381\n",
       "111   -2.238449\n",
       "Name: Peaks_Predictions, Length: 112, dtype: float32"
      ]
     },
     "execution_count": 89,
     "metadata": {},
     "output_type": "execute_result"
    }
   ],
   "source": [
    "summ_df.Peaks_Predictions"
   ]
  },
  {
   "cell_type": "code",
   "execution_count": 90,
   "id": "0721fec3-4f13-4034-9e8b-05862c6763e4",
   "metadata": {},
   "outputs": [
    {
     "data": {
      "text/plain": [
       "<seaborn.axisgrid.PairGrid at 0x7f28b81ff4f0>"
      ]
     },
     "execution_count": 90,
     "metadata": {},
     "output_type": "execute_result"
    },
    {
     "data": {
      "image/png": "[encoded data removed]",
      "text/plain": [
       "<Figure size 750x750 with 9 Axes>"
      ]
     },
     "metadata": {},
     "output_type": "display_data"
    }
   ],
   "source": [
    "g = sns.PairGrid(summ_df, corner=True, palette='black')\n",
    "g.map_offdiag(sns.scatterplot)\n",
    "g.map_diag(sns.histplot)"
   ]
  },
  {
   "cell_type": "code",
   "execution_count": 108,
   "id": "91dac4f3-0136-4f71-8ca6-6ee7844963fd",
   "metadata": {},
   "outputs": [],
   "source": [
    "from keras import backend as K\n",
    "\n",
    "def pearson_r(y_true, y_pred):\n",
    "    x = y_true\n",
    "    y = y_pred\n",
    "    mx = np.mean(x)\n",
    "    my = np.mean(y)\n",
    "    xm, ym = x - mx, y - my\n",
    "    r_num = np.sum(xm * ym)\n",
    "    x_square_sum = np.sum(xm * xm)\n",
    "    y_square_sum = np.sum(ym * ym)\n",
    "    r_den = np.sqrt(x_square_sum * y_square_sum)\n",
    "    r = r_num / r_den\n",
    "    return np.mean(r)"
   ]
  },
  {
   "cell_type": "code",
   "execution_count": 121,
   "id": "410934dc-c9ce-417d-ad68-27556b76024b",
   "metadata": {},
   "outputs": [
    {
     "data": {
      "text/plain": [
       "0.25147435"
      ]
     },
     "execution_count": 121,
     "metadata": {},
     "output_type": "execute_result"
    }
   ],
   "source": [
    "pearson_r(b, c)"
   ]
  },
  {
   "cell_type": "markdown",
   "id": "f7436a22-ddfa-4459-82f7-e8b02eb643b5",
   "metadata": {},
   "source": [
    "## Motif analysis"
   ]
  },
  {
   "cell_type": "code",
   "execution_count": 89,
   "id": "186b723c-1d4b-4a3e-9971-ff1e73d70902",
   "metadata": {},
   "outputs": [],
   "source": [
    "# First take motifs from peaks and from Hi-C sequences\n",
    "motifs_org = '/raid/dkokot/results/basset_model/tomtom.tsv'\n",
    "motifs_cust = '/raid/dkokot/results/basset_model/tomtom_hic.tsv'"
   ]
  },
  {
   "cell_type": "code",
   "execution_count": 95,
   "id": "525e8c54-f780-4f21-8609-5299f6489292",
   "metadata": {},
   "outputs": [],
   "source": [
    "motifs_org = pd.read_csv(motifs_org, sep='\\t')\n",
    "motifs_cust = pd.read_csv(motifs_cust, sep='\\t')"
   ]
  },
  {
   "cell_type": "code",
   "execution_count": 96,
   "id": "9e1aca53-ab14-4363-a3ac-6d4f11d8a707",
   "metadata": {},
   "outputs": [],
   "source": [
    "motifs_org.drop(motifs_org.tail(3).index,inplace=True)"
   ]
  },
  {
   "cell_type": "code",
   "execution_count": 98,
   "id": "4a0a48fc-1054-497b-b932-fa277435c837",
   "metadata": {},
   "outputs": [],
   "source": [
    "motifs_cust.drop(motifs_cust.tail(3).index,inplace=True)"
   ]
  },
  {
   "cell_type": "markdown",
   "id": "85f2f483-63c8-4c2a-987f-f823141ef2af",
   "metadata": {},
   "source": [
    "motifs_cust"
   ]
  },
  {
   "cell_type": "code",
   "execution_count": 105,
   "id": "e03f317e-7121-4bf7-b83e-13f352830fe3",
   "metadata": {},
   "outputs": [
    {
     "data": {
      "text/plain": [
       "0        filter2\n",
       "1        filter3\n",
       "2        filter3\n",
       "3        filter3\n",
       "4        filter5\n",
       "         ...    \n",
       "683    filter282\n",
       "684    filter282\n",
       "685    filter282\n",
       "686    filter282\n",
       "687    filter285\n",
       "Name: Query_ID, Length: 688, dtype: object"
      ]
     },
     "execution_count": 105,
     "metadata": {},
     "output_type": "execute_result"
    }
   ],
   "source": [
    "motifs_cust['Query_ID']"
   ]
  },
  {
   "cell_type": "code",
   "execution_count": 106,
   "id": "4b3a2a3a-e511-47ba-864b-c5b3179f5dfc",
   "metadata": {},
   "outputs": [
    {
     "data": {
      "text/plain": [
       "0        filter2\n",
       "1        filter4\n",
       "2        filter5\n",
       "3       filter11\n",
       "4       filter12\n",
       "         ...    \n",
       "679    filter282\n",
       "680    filter282\n",
       "681    filter282\n",
       "682    filter282\n",
       "683    filter285\n",
       "Name: Query_ID, Length: 684, dtype: object"
      ]
     },
     "execution_count": 106,
     "metadata": {},
     "output_type": "execute_result"
    }
   ],
   "source": [
    "motifs_org['Query_ID']"
   ]
  },
  {
   "cell_type": "code",
   "execution_count": 112,
   "id": "46d2202f-7438-489f-8b59-4c5bb7e309c9",
   "metadata": {},
   "outputs": [],
   "source": [
    "#merge two DataFrames and create indicator column\n",
    "motifs_all = motifs_cust.merge(motifs_org, on=['Query_ID'],\n",
    "                   how='left', indicator=True)\n",
    "\n",
    "#create DataFrame with rows that exist in first DataFrame only\n",
    "motifs_cust_only = motifs_all[motifs_all['_merge'] == 'left_only']"
   ]
  },
  {
   "cell_type": "code",
   "execution_count": null,
   "id": "7aafac78-5463-4e9f-8ef0-10e9d87201ed",
   "metadata": {},
   "outputs": [],
   "source": [
    "cols = [i for i in range(10, len(motifs_cust_only.columns))]\n",
    "motifs_cust_only.drop(motifs_cust_only.columns[cols], axis=1, inplace=True)"
   ]
  },
  {
   "cell_type": "code",
   "execution_count": null,
   "id": "985d44ec-3da8-49a0-85e5-6757417b2958",
   "metadata": {
    "scrolled": true
   },
   "outputs": [],
   "source": [
    "motifs_cust_only"
   ]
  },
  {
   "cell_type": "code",
   "execution_count": 123,
   "id": "69a33297-a6c7-454d-a55d-6edd489ecc2c",
   "metadata": {},
   "outputs": [],
   "source": [
    "filters_unique = motifs_cust_only.Query_ID.unique()\n",
    "target_unique = motifs_cust_only.Target_ID_x.unique()"
   ]
  },
  {
   "cell_type": "code",
   "execution_count": 136,
   "id": "7188083d-cf09-42e5-8b18-cff0fa5d35a1",
   "metadata": {},
   "outputs": [
    {
     "data": {
      "text/plain": [
       "11"
      ]
     },
     "execution_count": 136,
     "metadata": {},
     "output_type": "execute_result"
    }
   ],
   "source": [
    "len(filters_unique)"
   ]
  },
  {
   "cell_type": "raw",
   "id": "4db5fd93-e5e2-455a-b6b4-468d5a78b4d7",
   "metadata": {},
   "source": [
    "df.to_csv('example.tsv', sep=\"\\t\")"
   ]
  },
  {
   "cell_type": "code",
   "execution_count": 137,
   "id": "7f3730f6-568a-471e-a8bb-b2f5db2b3320",
   "metadata": {},
   "outputs": [
    {
     "data": {
      "text/plain": [
       "22"
      ]
     },
     "execution_count": 137,
     "metadata": {},
     "output_type": "execute_result"
    }
   ],
   "source": [
    "len(target_unique)"
   ]
  },
  {
   "cell_type": "code",
   "execution_count": 135,
   "id": "718b1d63-332e-4bbd-b147-56b3512eec2c",
   "metadata": {},
   "outputs": [],
   "source": [
    "motifs_cust_only.to_csv('new_motifs_hic.tsv', sep=\"\\t\")"
   ]
  },
  {
   "cell_type": "markdown",
   "id": "802dc494-9ba1-4e12-9616-1dfa40c59bd6",
   "metadata": {},
   "source": [
    "### Evaluate HiCBoost model trained on 5% without chromosome 1 with 10% of data containing all chromosomes\n",
    "### This would test whether such model truly outperformed version of model trained on bigger size of data."
   ]
  },
  {
   "cell_type": "code",
   "execution_count": 23,
   "id": "4d459f28-71b5-4eb6-84f6-6779accf7dde",
   "metadata": {},
   "outputs": [],
   "source": [
    "# load model\n",
    "import layers\n",
    "\n",
    "model_dir_hic_5p_wo1 = \"/data/basset_model/wo_chr1_hic/model_best.h5\"\n",
    "model_hic_from_dir_5p_wo1 = tf.keras.models.load_model(model_dir_hic_5p_wo1, custom_objects={'StochasticReverseComplement': layers.StochasticReverseComplement(),  \n",
    "                                                                  'SwitchReverse': layers.SwitchReverse(), 'StochasticShift': layers.StochasticShift}, compile=False)"
   ]
  },
  {
   "cell_type": "code",
   "execution_count": 24,
   "id": "cf21d137-aa30-4ce6-99d0-f1141929620f",
   "metadata": {},
   "outputs": [],
   "source": [
    "data_path = \"/data/basset_tfr/full_downsampled10p/\"\n",
    "data_hic = dataset_hic.SeqDataset(data_path,\n",
    "                              split_label='test',\n",
    "                              batch_size=32,\n",
    "                              shuffle_buffer=8192,\n",
    "                              hic_length=25000,\n",
    "                              cell_id=120,\n",
    "                              mode='eval',\n",
    "                              tfr_pattern=None)"
   ]
  },
  {
   "cell_type": "code",
   "execution_count": 31,
   "id": "a77b54ba-73d7-455a-b547-0ecce1ba2429",
   "metadata": {},
   "outputs": [],
   "source": [
    "# evaluate\n",
    "import trainer\n",
    "loss_label = params_train.get('loss', 'poisson').lower()\n",
    "spec_weight = params_train.get('spec_weight', 1)\n",
    "loss_fn = trainer.parse_loss(loss_label, spec_weight=spec_weight)"
   ]
  },
  {
   "cell_type": "code",
   "execution_count": 32,
   "id": "09eb05ea-6caf-4e80-8e92-b6b9a360aa21",
   "metadata": {},
   "outputs": [],
   "source": [
    "def evaluate_model(model_object, seq_data, head_i=None, loss_label='poisson', loss_fn=None):\n",
    "    \"\"\" Evaluate model on SeqDataset. \"\"\"\n",
    "    model = model_object\n",
    "\n",
    "    # compile with dense metrics\n",
    "    num_targets = model.output_shape[-1]\n",
    "\n",
    "    if loss_fn is None:\n",
    "        loss_fn = loss_label\n",
    "    \n",
    "    if loss_label == 'bce':\n",
    "        model.compile(optimizer=tf.keras.optimizers.SGD(),\n",
    "                    loss=loss_fn,\n",
    "                    metrics=[metrics.SeqAUC(curve='ROC', summarize=False),\n",
    "                             metrics.SeqAUC(curve='PR', summarize=False)])\n",
    "    else:      \n",
    "        model.compile(optimizer=tf.keras.optimizers.SGD(),\n",
    "                    loss=loss_fn,\n",
    "                    metrics=[metrics.PearsonR(num_targets, summarize=False),\n",
    "                             metrics.R2(num_targets, summarize=False)])\n",
    "\n",
    "    # evaluate\n",
    "    return model.evaluate(seq_data.dataset)"
   ]
  },
  {
   "cell_type": "code",
   "execution_count": 34,
   "id": "39fa6045-2d3d-4a06-a197-f57e0b7d87c2",
   "metadata": {},
   "outputs": [
    {
     "name": "stderr",
     "output_type": "stream",
     "text": [
      "2023-12-19 20:14:12.893658: I tensorflow/stream_executor/cuda/cuda_dnn.cc:368] Loaded cuDNN version 8100\n",
      "2023-12-19 20:14:13.328896: I tensorflow/core/platform/default/subprocess.cc:304] Start cannot spawn child process: No such file or directory\n"
     ]
    },
    {
     "name": "stdout",
     "output_type": "stream",
     "text": [
      "3743/3743 [==============================] - 1714s 452ms/step - loss: 0.0950 - auroc: 0.9014 - auprc: 0.4485\n"
     ]
    }
   ],
   "source": [
    "import metrics\n",
    "test_loss_hic, test_metric1_hic, test_metric2_hic = evaluate_model(model_hic_from_dir_5p_wo1, data_hic, loss_label=loss_label, loss_fn=loss_fn)"
   ]
  },
  {
   "cell_type": "code",
   "execution_count": null,
   "id": "1518c865-1992-48a5-89b1-65bb26bb6b7e",
   "metadata": {},
   "outputs": [],
   "source": []
  }
 ],
 "metadata": {
  "kernelspec": {
   "display_name": "basenji",
   "language": "python",
   "name": "basenji"
  },
  "language_info": {
   "codemirror_mode": {
    "name": "ipython",
    "version": 3
   },
   "file_extension": ".py",
   "mimetype": "text/x-python",
   "name": "python",
   "nbconvert_exporter": "python",
   "pygments_lexer": "ipython3",
   "version": "3.8.12"
  }
 },
 "nbformat": 4,
 "nbformat_minor": 5
}
